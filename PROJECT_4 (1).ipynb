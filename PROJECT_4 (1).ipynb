{
 "cells": [
  {
   "cell_type": "code",
   "execution_count": 49,
   "id": "dadfd654",
   "metadata": {},
   "outputs": [],
   "source": [
    "import numpy as np\n",
    "import pandas as pd\n",
    "from matplotlib import pyplot as plt\n",
    "import seaborn as sns\n",
    "import plotly\n",
    "import plotly.graph_objects as go\n",
    "import plotly.express as px\n",
    "import json\n",
    "import statsmodels.api as sm\n",
    "from scipy import stats\n",
    "import statistics\n",
    "from scipy.stats import shapiro\n",
    "from statsmodels.stats import weightstats \n",
    "import statsmodels.api as sm\n",
    "from statsmodels.formula.api import ols\n",
    "from statsmodels.stats.anova import anova_lm\n",
    "from scipy.stats import chi2_contingency\n",
    "from scipy.stats import chi2\n",
    "from scipy.stats import chisquare\n",
    "import statsmodels.stats.multicomp as mc\n",
    "import scikit_posthocs"
   ]
  },
  {
   "cell_type": "code",
   "execution_count": 50,
   "id": "4db998bd",
   "metadata": {},
   "outputs": [],
   "source": [
    "import warnings\n",
    "warnings.filterwarnings(\"ignore\")"
   ]
  },
  {
   "cell_type": "code",
   "execution_count": 51,
   "id": "d1b8a41f",
   "metadata": {},
   "outputs": [],
   "source": [
    "NuCloth=pd.Series([23,30,20,27,44,26,35,20,29,29,25,15,\n",
    "                  18,27,19,22,12,26,34,15,27,35,26,43,35,\n",
    "                  14,24,12,23,31,40,35,38,57,22,42,24,21,27,\n",
    "                33])\n"
   ]
  },
  {
   "cell_type": "code",
   "execution_count": 52,
   "id": "0c21e0a7",
   "metadata": {},
   "outputs": [
    {
     "data": {
      "text/html": [
       "<div>\n",
       "<style scoped>\n",
       "    .dataframe tbody tr th:only-of-type {\n",
       "        vertical-align: middle;\n",
       "    }\n",
       "\n",
       "    .dataframe tbody tr th {\n",
       "        vertical-align: top;\n",
       "    }\n",
       "\n",
       "    .dataframe thead th {\n",
       "        text-align: right;\n",
       "    }\n",
       "</style>\n",
       "<table border=\"1\" class=\"dataframe\">\n",
       "  <thead>\n",
       "    <tr style=\"text-align: right;\">\n",
       "      <th></th>\n",
       "      <th>size</th>\n",
       "    </tr>\n",
       "  </thead>\n",
       "  <tbody>\n",
       "    <tr>\n",
       "      <th>0</th>\n",
       "      <td>23</td>\n",
       "    </tr>\n",
       "    <tr>\n",
       "      <th>1</th>\n",
       "      <td>30</td>\n",
       "    </tr>\n",
       "    <tr>\n",
       "      <th>2</th>\n",
       "      <td>20</td>\n",
       "    </tr>\n",
       "    <tr>\n",
       "      <th>3</th>\n",
       "      <td>27</td>\n",
       "    </tr>\n",
       "    <tr>\n",
       "      <th>4</th>\n",
       "      <td>44</td>\n",
       "    </tr>\n",
       "  </tbody>\n",
       "</table>\n",
       "</div>"
      ],
      "text/plain": [
       "   size\n",
       "0    23\n",
       "1    30\n",
       "2    20\n",
       "3    27\n",
       "4    44"
      ]
     },
     "execution_count": 52,
     "metadata": {},
     "output_type": "execute_result"
    }
   ],
   "source": [
    "dat=pd.DataFrame(NuCloth,columns=['size'])\n",
    "dat.head()"
   ]
  },
  {
   "cell_type": "markdown",
   "id": "e2f4bf9a",
   "metadata": {},
   "source": [
    "Q1. Compute the mean, median and the mode of the data"
   ]
  },
  {
   "cell_type": "code",
   "execution_count": 53,
   "id": "08ff66f4",
   "metadata": {},
   "outputs": [
    {
     "data": {
      "text/plain": [
       "27.625"
      ]
     },
     "execution_count": 53,
     "metadata": {},
     "output_type": "execute_result"
    }
   ],
   "source": [
    "NuCloth.mean()"
   ]
  },
  {
   "cell_type": "code",
   "execution_count": 54,
   "id": "22f75b16",
   "metadata": {},
   "outputs": [
    {
     "data": {
      "text/plain": [
       "26.5"
      ]
     },
     "execution_count": 54,
     "metadata": {},
     "output_type": "execute_result"
    }
   ],
   "source": [
    "NuCloth.median()"
   ]
  },
  {
   "cell_type": "code",
   "execution_count": 55,
   "id": "fa2ba792",
   "metadata": {},
   "outputs": [
    {
     "data": {
      "text/plain": [
       "0    27\n",
       "1    35\n",
       "dtype: int64"
      ]
     },
     "execution_count": 55,
     "metadata": {},
     "output_type": "execute_result"
    }
   ],
   "source": [
    "NuCloth.mode()"
   ]
  },
  {
   "cell_type": "markdown",
   "id": "b1337af1",
   "metadata": {},
   "source": [
    "Q2. Compute the range , variance and standard deviation of the data "
   ]
  },
  {
   "cell_type": "code",
   "execution_count": 56,
   "id": "31e84687",
   "metadata": {},
   "outputs": [
    {
     "data": {
      "text/plain": [
       "45"
      ]
     },
     "execution_count": 56,
     "metadata": {},
     "output_type": "execute_result"
    }
   ],
   "source": [
    "Range=NuCloth.max()-NuCloth.min()\n",
    "Range"
   ]
  },
  {
   "cell_type": "code",
   "execution_count": 57,
   "id": "2ebb2d87",
   "metadata": {},
   "outputs": [
    {
     "data": {
      "text/plain": [
       "92.59935897435898"
      ]
     },
     "execution_count": 57,
     "metadata": {},
     "output_type": "execute_result"
    }
   ],
   "source": [
    "NuCloth.var()"
   ]
  },
  {
   "cell_type": "code",
   "execution_count": 58,
   "id": "9754425c",
   "metadata": {},
   "outputs": [
    {
     "data": {
      "text/plain": [
       "9.622856071580774"
      ]
     },
     "execution_count": 58,
     "metadata": {},
     "output_type": "execute_result"
    }
   ],
   "source": [
    "NuCloth.std()"
   ]
  },
  {
   "cell_type": "markdown",
   "id": "126d15b0",
   "metadata": {},
   "source": [
    "Q3. Find the mean deviation for the data . The mean deviation is defined as below."
   ]
  },
  {
   "cell_type": "code",
   "execution_count": 59,
   "id": "b3238526",
   "metadata": {},
   "outputs": [
    {
     "data": {
      "text/plain": [
       "7.4"
      ]
     },
     "execution_count": 59,
     "metadata": {},
     "output_type": "execute_result"
    }
   ],
   "source": [
    "mad =NuCloth.mad(axis=0)\n",
    "mad"
   ]
  },
  {
   "cell_type": "markdown",
   "id": "1a587aad",
   "metadata": {},
   "source": [
    "Q4. Calculate the Pearson coefficient of skewness and comment on the skewness of the data"
   ]
  },
  {
   "cell_type": "code",
   "execution_count": 60,
   "id": "656108e5",
   "metadata": {},
   "outputs": [],
   "source": [
    "NuCloth_mean=NuCloth.mean()"
   ]
  },
  {
   "cell_type": "code",
   "execution_count": 61,
   "id": "bc4dbb17",
   "metadata": {},
   "outputs": [],
   "source": [
    "NuCloth_med=NuCloth.median()"
   ]
  },
  {
   "cell_type": "code",
   "execution_count": 62,
   "id": "98c8ca6e",
   "metadata": {},
   "outputs": [],
   "source": [
    "NuCloth_std=NuCloth.std()"
   ]
  },
  {
   "cell_type": "code",
   "execution_count": 63,
   "id": "cbda2a17",
   "metadata": {},
   "outputs": [],
   "source": [
    "s_kp=(3*(NuCloth_mean-NuCloth_med))/NuCloth_std"
   ]
  },
  {
   "cell_type": "code",
   "execution_count": 64,
   "id": "70090986",
   "metadata": {},
   "outputs": [
    {
     "name": "stdout",
     "output_type": "stream",
     "text": [
      "0.3507274737245009\n"
     ]
    }
   ],
   "source": [
    "print(s_kp)"
   ]
  },
  {
   "cell_type": "markdown",
   "id": "2c161139",
   "metadata": {},
   "source": [
    "Skewness tells us the direction of outliers.\n",
    "While all other variable are Positively skewd."
   ]
  },
  {
   "cell_type": "code",
   "execution_count": 65,
   "id": "3cb4de0d",
   "metadata": {},
   "outputs": [],
   "source": [
    "df_num= dat.select_dtypes(include=np.number)"
   ]
  },
  {
   "cell_type": "code",
   "execution_count": 66,
   "id": "0c8ff58e",
   "metadata": {},
   "outputs": [
    {
     "data": {
      "image/png": "[encoded data removed]",
      "text/plain": [
       "<Figure size 640x480 with 1 Axes>"
      ]
     },
     "metadata": {},
     "output_type": "display_data"
    },
    {
     "data": {
      "text/plain": [
       "<Figure size 2000x2000 with 0 Axes>"
      ]
     },
     "metadata": {},
     "output_type": "display_data"
    }
   ],
   "source": [
    "sns.histplot(df_num)\n",
    "plt.figure(figsize=(20,20))\n",
    "plt.show()"
   ]
  },
  {
   "cell_type": "markdown",
   "id": "b46d26d7",
   "metadata": {},
   "source": [
    "Q5. Count the number of data values that fall within two standard deviations of the mean. Compare this with the answer from Chebyshev’s Theorem."
   ]
  },
  {
   "cell_type": "code",
   "execution_count": 67,
   "id": "44713089",
   "metadata": {},
   "outputs": [],
   "source": [
    "mean=dat.mean()"
   ]
  },
  {
   "cell_type": "code",
   "execution_count": 68,
   "id": "948c4e42",
   "metadata": {},
   "outputs": [],
   "source": [
    "std=dat.std()"
   ]
  },
  {
   "cell_type": "code",
   "execution_count": 69,
   "id": "dc9ae443",
   "metadata": {},
   "outputs": [
    {
     "data": {
      "text/plain": [
       "size    46.870712\n",
       "dtype: float64"
      ]
     },
     "execution_count": 69,
     "metadata": {},
     "output_type": "execute_result"
    }
   ],
   "source": [
    "mean+2*std"
   ]
  },
  {
   "cell_type": "code",
   "execution_count": 70,
   "id": "fefaeb9c",
   "metadata": {},
   "outputs": [
    {
     "data": {
      "text/plain": [
       "size    43.05\n",
       "Name: 0.95, dtype: float64"
      ]
     },
     "execution_count": 70,
     "metadata": {},
     "output_type": "execute_result"
    }
   ],
   "source": [
    "quan=dat.quantile(0.95)\n",
    "quan"
   ]
  },
  {
   "cell_type": "markdown",
   "id": "ea7ef202",
   "metadata": {},
   "source": [
    "Both answer are close to each other."
   ]
  },
  {
   "cell_type": "code",
   "execution_count": null,
   "id": "4d991d10",
   "metadata": {},
   "outputs": [],
   "source": []
  },
  {
   "cell_type": "markdown",
   "id": "f081c915",
   "metadata": {},
   "source": [
    "Q6. Find the three quartiles and the interquartile range (IQR)."
   ]
  },
  {
   "cell_type": "code",
   "execution_count": 71,
   "id": "c360357b",
   "metadata": {},
   "outputs": [
    {
     "name": "stdout",
     "output_type": "stream",
     "text": [
      "Q1 21.75\n",
      "Q2 26.5\n",
      "IQR 12.5\n"
     ]
    }
   ],
   "source": [
    "Q1=NuCloth.quantile(0.25)\n",
    "Q2=NuCloth.quantile(0.50)\n",
    "Q3=NuCloth.quantile(0.75)\n",
    "IQR=Q3-Q1\n",
    "print(\"Q1\",Q1)\n",
    "print(\"Q2\",Q2)\n",
    "print(\"IQR\",IQR)\n"
   ]
  },
  {
   "cell_type": "markdown",
   "id": "17e4e9d6",
   "metadata": {},
   "source": [
    "Q7. Are there any outliers in the data set ?"
   ]
  },
  {
   "cell_type": "markdown",
   "id": "95394220",
   "metadata": {},
   "source": [
    "Yes"
   ]
  },
  {
   "cell_type": "markdown",
   "id": "b8735d48",
   "metadata": {},
   "source": [
    "Q8. Draw a boxplot of the dataset to confirm ."
   ]
  },
  {
   "cell_type": "code",
   "execution_count": 72,
   "id": "b553ee62",
   "metadata": {},
   "outputs": [
    {
     "data": {
      "image/png": "[encoded data removed]",
      "text/plain": [
       "<Figure size 640x480 with 1 Axes>"
      ]
     },
     "metadata": {},
     "output_type": "display_data"
    }
   ],
   "source": [
    "sns.boxplot(NuCloth)\n",
    "plt.show()"
   ]
  },
  {
   "cell_type": "markdown",
   "id": "372c7c72",
   "metadata": {},
   "source": [
    "There is only one outlier."
   ]
  },
  {
   "cell_type": "markdown",
   "id": "cb047681",
   "metadata": {},
   "source": [
    "Q9. Find the percentile rank of the datapoint 25.\n"
   ]
  },
  {
   "cell_type": "code",
   "execution_count": null,
   "id": "09c07bcd",
   "metadata": {},
   "outputs": [],
   "source": []
  },
  {
   "cell_type": "code",
   "execution_count": 73,
   "id": "67efd15f",
   "metadata": {},
   "outputs": [
    {
     "data": {
      "text/html": [
       "<div>\n",
       "<style scoped>\n",
       "    .dataframe tbody tr th:only-of-type {\n",
       "        vertical-align: middle;\n",
       "    }\n",
       "\n",
       "    .dataframe tbody tr th {\n",
       "        vertical-align: top;\n",
       "    }\n",
       "\n",
       "    .dataframe thead th {\n",
       "        text-align: right;\n",
       "    }\n",
       "</style>\n",
       "<table border=\"1\" class=\"dataframe\">\n",
       "  <thead>\n",
       "    <tr style=\"text-align: right;\">\n",
       "      <th></th>\n",
       "      <th>size</th>\n",
       "      <th>Percentile Rank</th>\n",
       "    </tr>\n",
       "  </thead>\n",
       "  <tbody>\n",
       "    <tr>\n",
       "      <th>0</th>\n",
       "      <td>23</td>\n",
       "      <td>13.5</td>\n",
       "    </tr>\n",
       "    <tr>\n",
       "      <th>1</th>\n",
       "      <td>30</td>\n",
       "      <td>27.0</td>\n",
       "    </tr>\n",
       "    <tr>\n",
       "      <th>2</th>\n",
       "      <td>20</td>\n",
       "      <td>8.5</td>\n",
       "    </tr>\n",
       "    <tr>\n",
       "      <th>3</th>\n",
       "      <td>27</td>\n",
       "      <td>22.5</td>\n",
       "    </tr>\n",
       "    <tr>\n",
       "      <th>4</th>\n",
       "      <td>44</td>\n",
       "      <td>39.0</td>\n",
       "    </tr>\n",
       "    <tr>\n",
       "      <th>5</th>\n",
       "      <td>26</td>\n",
       "      <td>19.0</td>\n",
       "    </tr>\n",
       "    <tr>\n",
       "      <th>6</th>\n",
       "      <td>35</td>\n",
       "      <td>32.5</td>\n",
       "    </tr>\n",
       "    <tr>\n",
       "      <th>7</th>\n",
       "      <td>20</td>\n",
       "      <td>8.5</td>\n",
       "    </tr>\n",
       "    <tr>\n",
       "      <th>8</th>\n",
       "      <td>29</td>\n",
       "      <td>25.5</td>\n",
       "    </tr>\n",
       "    <tr>\n",
       "      <th>9</th>\n",
       "      <td>29</td>\n",
       "      <td>25.5</td>\n",
       "    </tr>\n",
       "    <tr>\n",
       "      <th>10</th>\n",
       "      <td>25</td>\n",
       "      <td>17.0</td>\n",
       "    </tr>\n",
       "    <tr>\n",
       "      <th>11</th>\n",
       "      <td>15</td>\n",
       "      <td>4.5</td>\n",
       "    </tr>\n",
       "    <tr>\n",
       "      <th>12</th>\n",
       "      <td>18</td>\n",
       "      <td>6.0</td>\n",
       "    </tr>\n",
       "    <tr>\n",
       "      <th>13</th>\n",
       "      <td>27</td>\n",
       "      <td>22.5</td>\n",
       "    </tr>\n",
       "    <tr>\n",
       "      <th>14</th>\n",
       "      <td>19</td>\n",
       "      <td>7.0</td>\n",
       "    </tr>\n",
       "    <tr>\n",
       "      <th>15</th>\n",
       "      <td>22</td>\n",
       "      <td>11.5</td>\n",
       "    </tr>\n",
       "    <tr>\n",
       "      <th>16</th>\n",
       "      <td>12</td>\n",
       "      <td>1.5</td>\n",
       "    </tr>\n",
       "    <tr>\n",
       "      <th>17</th>\n",
       "      <td>26</td>\n",
       "      <td>19.0</td>\n",
       "    </tr>\n",
       "    <tr>\n",
       "      <th>18</th>\n",
       "      <td>34</td>\n",
       "      <td>30.0</td>\n",
       "    </tr>\n",
       "    <tr>\n",
       "      <th>19</th>\n",
       "      <td>15</td>\n",
       "      <td>4.5</td>\n",
       "    </tr>\n",
       "    <tr>\n",
       "      <th>20</th>\n",
       "      <td>27</td>\n",
       "      <td>22.5</td>\n",
       "    </tr>\n",
       "    <tr>\n",
       "      <th>21</th>\n",
       "      <td>35</td>\n",
       "      <td>32.5</td>\n",
       "    </tr>\n",
       "    <tr>\n",
       "      <th>22</th>\n",
       "      <td>26</td>\n",
       "      <td>19.0</td>\n",
       "    </tr>\n",
       "    <tr>\n",
       "      <th>23</th>\n",
       "      <td>43</td>\n",
       "      <td>38.0</td>\n",
       "    </tr>\n",
       "    <tr>\n",
       "      <th>24</th>\n",
       "      <td>35</td>\n",
       "      <td>32.5</td>\n",
       "    </tr>\n",
       "    <tr>\n",
       "      <th>25</th>\n",
       "      <td>14</td>\n",
       "      <td>3.0</td>\n",
       "    </tr>\n",
       "    <tr>\n",
       "      <th>26</th>\n",
       "      <td>24</td>\n",
       "      <td>15.5</td>\n",
       "    </tr>\n",
       "    <tr>\n",
       "      <th>27</th>\n",
       "      <td>12</td>\n",
       "      <td>1.5</td>\n",
       "    </tr>\n",
       "    <tr>\n",
       "      <th>28</th>\n",
       "      <td>23</td>\n",
       "      <td>13.5</td>\n",
       "    </tr>\n",
       "    <tr>\n",
       "      <th>29</th>\n",
       "      <td>31</td>\n",
       "      <td>28.0</td>\n",
       "    </tr>\n",
       "    <tr>\n",
       "      <th>30</th>\n",
       "      <td>40</td>\n",
       "      <td>36.0</td>\n",
       "    </tr>\n",
       "    <tr>\n",
       "      <th>31</th>\n",
       "      <td>35</td>\n",
       "      <td>32.5</td>\n",
       "    </tr>\n",
       "    <tr>\n",
       "      <th>32</th>\n",
       "      <td>38</td>\n",
       "      <td>35.0</td>\n",
       "    </tr>\n",
       "    <tr>\n",
       "      <th>33</th>\n",
       "      <td>57</td>\n",
       "      <td>40.0</td>\n",
       "    </tr>\n",
       "    <tr>\n",
       "      <th>34</th>\n",
       "      <td>22</td>\n",
       "      <td>11.5</td>\n",
       "    </tr>\n",
       "    <tr>\n",
       "      <th>35</th>\n",
       "      <td>42</td>\n",
       "      <td>37.0</td>\n",
       "    </tr>\n",
       "    <tr>\n",
       "      <th>36</th>\n",
       "      <td>24</td>\n",
       "      <td>15.5</td>\n",
       "    </tr>\n",
       "    <tr>\n",
       "      <th>37</th>\n",
       "      <td>21</td>\n",
       "      <td>10.0</td>\n",
       "    </tr>\n",
       "    <tr>\n",
       "      <th>38</th>\n",
       "      <td>27</td>\n",
       "      <td>22.5</td>\n",
       "    </tr>\n",
       "    <tr>\n",
       "      <th>39</th>\n",
       "      <td>33</td>\n",
       "      <td>29.0</td>\n",
       "    </tr>\n",
       "  </tbody>\n",
       "</table>\n",
       "</div>"
      ],
      "text/plain": [
       "    size  Percentile Rank\n",
       "0     23             13.5\n",
       "1     30             27.0\n",
       "2     20              8.5\n",
       "3     27             22.5\n",
       "4     44             39.0\n",
       "5     26             19.0\n",
       "6     35             32.5\n",
       "7     20              8.5\n",
       "8     29             25.5\n",
       "9     29             25.5\n",
       "10    25             17.0\n",
       "11    15              4.5\n",
       "12    18              6.0\n",
       "13    27             22.5\n",
       "14    19              7.0\n",
       "15    22             11.5\n",
       "16    12              1.5\n",
       "17    26             19.0\n",
       "18    34             30.0\n",
       "19    15              4.5\n",
       "20    27             22.5\n",
       "21    35             32.5\n",
       "22    26             19.0\n",
       "23    43             38.0\n",
       "24    35             32.5\n",
       "25    14              3.0\n",
       "26    24             15.5\n",
       "27    12              1.5\n",
       "28    23             13.5\n",
       "29    31             28.0\n",
       "30    40             36.0\n",
       "31    35             32.5\n",
       "32    38             35.0\n",
       "33    57             40.0\n",
       "34    22             11.5\n",
       "35    42             37.0\n",
       "36    24             15.5\n",
       "37    21             10.0\n",
       "38    27             22.5\n",
       "39    33             29.0"
      ]
     },
     "execution_count": 73,
     "metadata": {},
     "output_type": "execute_result"
    }
   ],
   "source": [
    "dat['Percentile Rank'] = dat['size'].rank()\n",
    "dat"
   ]
  },
  {
   "cell_type": "code",
   "execution_count": 74,
   "id": "a8e08417",
   "metadata": {},
   "outputs": [],
   "source": [
    "#dat.drop(['prob'],axis=1,inplace=True)"
   ]
  },
  {
   "cell_type": "markdown",
   "id": "b5a082e7",
   "metadata": {},
   "source": [
    "Q10. What is the probability that a shirt cost is above 25 dollars?\n"
   ]
  },
  {
   "cell_type": "code",
   "execution_count": 75,
   "id": "9345c956",
   "metadata": {},
   "outputs": [
    {
     "name": "stdout",
     "output_type": "stream",
     "text": [
      "The probability that a shirt cost is above 25 dollars: 0.575\n"
     ]
    }
   ],
   "source": [
    "num=len(dat[dat['size']>25])\n",
    "den=len(dat['size'])\n",
    "prob=num/den\n",
    "print(\"The probability that a shirt cost is above 25 dollars:\",prob)"
   ]
  },
  {
   "cell_type": "markdown",
   "id": "dc31b02d",
   "metadata": {},
   "source": [
    "Q11. Create a frequency distribution for the data and visualize it appropriately"
   ]
  },
  {
   "cell_type": "code",
   "execution_count": 76,
   "id": "5169c003",
   "metadata": {},
   "outputs": [
    {
     "data": {
      "image/png": "[encoded data removed]",
      "text/plain": [
       "<Figure size 640x480 with 1 Axes>"
      ]
     },
     "metadata": {},
     "output_type": "display_data"
    }
   ],
   "source": [
    "df=NuCloth.value_counts()#.reset_index().rename(columns={0:'frequency','index':'size'})\n",
    "df.plot(kind='bar')\n",
    "plt.show()"
   ]
  },
  {
   "cell_type": "markdown",
   "id": "026c77d7",
   "metadata": {},
   "source": [
    "Q12. Create a probability distribution of the data and visualize it appropriately."
   ]
  },
  {
   "cell_type": "code",
   "execution_count": 77,
   "id": "d56ec02a",
   "metadata": {},
   "outputs": [
    {
     "data": {
      "text/plain": [
       "<AxesSubplot:xlabel='prob'>"
      ]
     },
     "execution_count": 77,
     "metadata": {},
     "output_type": "execute_result"
    },
    {
     "data": {
      "image/png": "[encoded data removed]",
      "text/plain": [
       "<Figure size 640x480 with 1 Axes>"
      ]
     },
     "metadata": {},
     "output_type": "display_data"
    }
   ],
   "source": [
    "mu = np.mean(da1.size)\n",
    "sig = da1.size.std()\n",
    "da1['prob'] = 0.0\n",
    "\n",
    "for idx,row in da1.iterrows():\n",
    "    if row.size < mu:\n",
    "        da1.at[idx,'prob'] = 1 - (stats.norm(mu,sig).pdf(row.size))\n",
    "    else:\n",
    "        da1.at[idx,'prob'] = stats.norm(mu, sig).pdf(row.size)\n",
    "sns.distplot(da1['prob'])\n"
   ]
  },
  {
   "cell_type": "code",
   "execution_count": 78,
   "id": "ad3e576d",
   "metadata": {},
   "outputs": [
    {
     "data": {
      "text/html": [
       "<div>\n",
       "<style scoped>\n",
       "    .dataframe tbody tr th:only-of-type {\n",
       "        vertical-align: middle;\n",
       "    }\n",
       "\n",
       "    .dataframe tbody tr th {\n",
       "        vertical-align: top;\n",
       "    }\n",
       "\n",
       "    .dataframe thead th {\n",
       "        text-align: right;\n",
       "    }\n",
       "</style>\n",
       "<table border=\"1\" class=\"dataframe\">\n",
       "  <thead>\n",
       "    <tr style=\"text-align: right;\">\n",
       "      <th></th>\n",
       "      <th>price</th>\n",
       "      <th>Percentile Rank</th>\n",
       "      <th>prob</th>\n",
       "    </tr>\n",
       "  </thead>\n",
       "  <tbody>\n",
       "    <tr>\n",
       "      <th>0</th>\n",
       "      <td>23</td>\n",
       "      <td>13.5</td>\n",
       "      <td>NaN</td>\n",
       "    </tr>\n",
       "    <tr>\n",
       "      <th>1</th>\n",
       "      <td>30</td>\n",
       "      <td>27.0</td>\n",
       "      <td>NaN</td>\n",
       "    </tr>\n",
       "    <tr>\n",
       "      <th>2</th>\n",
       "      <td>20</td>\n",
       "      <td>8.5</td>\n",
       "      <td>NaN</td>\n",
       "    </tr>\n",
       "    <tr>\n",
       "      <th>3</th>\n",
       "      <td>27</td>\n",
       "      <td>22.5</td>\n",
       "      <td>NaN</td>\n",
       "    </tr>\n",
       "    <tr>\n",
       "      <th>4</th>\n",
       "      <td>44</td>\n",
       "      <td>39.0</td>\n",
       "      <td>NaN</td>\n",
       "    </tr>\n",
       "    <tr>\n",
       "      <th>5</th>\n",
       "      <td>26</td>\n",
       "      <td>19.0</td>\n",
       "      <td>NaN</td>\n",
       "    </tr>\n",
       "    <tr>\n",
       "      <th>6</th>\n",
       "      <td>35</td>\n",
       "      <td>32.5</td>\n",
       "      <td>NaN</td>\n",
       "    </tr>\n",
       "    <tr>\n",
       "      <th>7</th>\n",
       "      <td>20</td>\n",
       "      <td>8.5</td>\n",
       "      <td>NaN</td>\n",
       "    </tr>\n",
       "    <tr>\n",
       "      <th>8</th>\n",
       "      <td>29</td>\n",
       "      <td>25.5</td>\n",
       "      <td>NaN</td>\n",
       "    </tr>\n",
       "    <tr>\n",
       "      <th>9</th>\n",
       "      <td>29</td>\n",
       "      <td>25.5</td>\n",
       "      <td>NaN</td>\n",
       "    </tr>\n",
       "    <tr>\n",
       "      <th>10</th>\n",
       "      <td>25</td>\n",
       "      <td>17.0</td>\n",
       "      <td>NaN</td>\n",
       "    </tr>\n",
       "    <tr>\n",
       "      <th>11</th>\n",
       "      <td>15</td>\n",
       "      <td>4.5</td>\n",
       "      <td>NaN</td>\n",
       "    </tr>\n",
       "    <tr>\n",
       "      <th>12</th>\n",
       "      <td>18</td>\n",
       "      <td>6.0</td>\n",
       "      <td>NaN</td>\n",
       "    </tr>\n",
       "    <tr>\n",
       "      <th>13</th>\n",
       "      <td>27</td>\n",
       "      <td>22.5</td>\n",
       "      <td>NaN</td>\n",
       "    </tr>\n",
       "    <tr>\n",
       "      <th>14</th>\n",
       "      <td>19</td>\n",
       "      <td>7.0</td>\n",
       "      <td>NaN</td>\n",
       "    </tr>\n",
       "    <tr>\n",
       "      <th>15</th>\n",
       "      <td>22</td>\n",
       "      <td>11.5</td>\n",
       "      <td>NaN</td>\n",
       "    </tr>\n",
       "    <tr>\n",
       "      <th>16</th>\n",
       "      <td>12</td>\n",
       "      <td>1.5</td>\n",
       "      <td>NaN</td>\n",
       "    </tr>\n",
       "    <tr>\n",
       "      <th>17</th>\n",
       "      <td>26</td>\n",
       "      <td>19.0</td>\n",
       "      <td>NaN</td>\n",
       "    </tr>\n",
       "    <tr>\n",
       "      <th>18</th>\n",
       "      <td>34</td>\n",
       "      <td>30.0</td>\n",
       "      <td>NaN</td>\n",
       "    </tr>\n",
       "    <tr>\n",
       "      <th>19</th>\n",
       "      <td>15</td>\n",
       "      <td>4.5</td>\n",
       "      <td>NaN</td>\n",
       "    </tr>\n",
       "    <tr>\n",
       "      <th>20</th>\n",
       "      <td>27</td>\n",
       "      <td>22.5</td>\n",
       "      <td>NaN</td>\n",
       "    </tr>\n",
       "    <tr>\n",
       "      <th>21</th>\n",
       "      <td>35</td>\n",
       "      <td>32.5</td>\n",
       "      <td>NaN</td>\n",
       "    </tr>\n",
       "    <tr>\n",
       "      <th>22</th>\n",
       "      <td>26</td>\n",
       "      <td>19.0</td>\n",
       "      <td>NaN</td>\n",
       "    </tr>\n",
       "    <tr>\n",
       "      <th>23</th>\n",
       "      <td>43</td>\n",
       "      <td>38.0</td>\n",
       "      <td>NaN</td>\n",
       "    </tr>\n",
       "    <tr>\n",
       "      <th>24</th>\n",
       "      <td>35</td>\n",
       "      <td>32.5</td>\n",
       "      <td>NaN</td>\n",
       "    </tr>\n",
       "    <tr>\n",
       "      <th>25</th>\n",
       "      <td>14</td>\n",
       "      <td>3.0</td>\n",
       "      <td>NaN</td>\n",
       "    </tr>\n",
       "    <tr>\n",
       "      <th>26</th>\n",
       "      <td>24</td>\n",
       "      <td>15.5</td>\n",
       "      <td>NaN</td>\n",
       "    </tr>\n",
       "    <tr>\n",
       "      <th>27</th>\n",
       "      <td>12</td>\n",
       "      <td>1.5</td>\n",
       "      <td>NaN</td>\n",
       "    </tr>\n",
       "    <tr>\n",
       "      <th>28</th>\n",
       "      <td>23</td>\n",
       "      <td>13.5</td>\n",
       "      <td>NaN</td>\n",
       "    </tr>\n",
       "    <tr>\n",
       "      <th>29</th>\n",
       "      <td>31</td>\n",
       "      <td>28.0</td>\n",
       "      <td>NaN</td>\n",
       "    </tr>\n",
       "    <tr>\n",
       "      <th>30</th>\n",
       "      <td>40</td>\n",
       "      <td>36.0</td>\n",
       "      <td>NaN</td>\n",
       "    </tr>\n",
       "    <tr>\n",
       "      <th>31</th>\n",
       "      <td>35</td>\n",
       "      <td>32.5</td>\n",
       "      <td>NaN</td>\n",
       "    </tr>\n",
       "    <tr>\n",
       "      <th>32</th>\n",
       "      <td>38</td>\n",
       "      <td>35.0</td>\n",
       "      <td>NaN</td>\n",
       "    </tr>\n",
       "    <tr>\n",
       "      <th>33</th>\n",
       "      <td>57</td>\n",
       "      <td>40.0</td>\n",
       "      <td>NaN</td>\n",
       "    </tr>\n",
       "    <tr>\n",
       "      <th>34</th>\n",
       "      <td>22</td>\n",
       "      <td>11.5</td>\n",
       "      <td>NaN</td>\n",
       "    </tr>\n",
       "    <tr>\n",
       "      <th>35</th>\n",
       "      <td>42</td>\n",
       "      <td>37.0</td>\n",
       "      <td>NaN</td>\n",
       "    </tr>\n",
       "    <tr>\n",
       "      <th>36</th>\n",
       "      <td>24</td>\n",
       "      <td>15.5</td>\n",
       "      <td>NaN</td>\n",
       "    </tr>\n",
       "    <tr>\n",
       "      <th>37</th>\n",
       "      <td>21</td>\n",
       "      <td>10.0</td>\n",
       "      <td>NaN</td>\n",
       "    </tr>\n",
       "    <tr>\n",
       "      <th>38</th>\n",
       "      <td>27</td>\n",
       "      <td>22.5</td>\n",
       "      <td>NaN</td>\n",
       "    </tr>\n",
       "    <tr>\n",
       "      <th>39</th>\n",
       "      <td>33</td>\n",
       "      <td>29.0</td>\n",
       "      <td>NaN</td>\n",
       "    </tr>\n",
       "  </tbody>\n",
       "</table>\n",
       "</div>"
      ],
      "text/plain": [
       "    price  Percentile Rank  prob\n",
       "0      23             13.5   NaN\n",
       "1      30             27.0   NaN\n",
       "2      20              8.5   NaN\n",
       "3      27             22.5   NaN\n",
       "4      44             39.0   NaN\n",
       "5      26             19.0   NaN\n",
       "6      35             32.5   NaN\n",
       "7      20              8.5   NaN\n",
       "8      29             25.5   NaN\n",
       "9      29             25.5   NaN\n",
       "10     25             17.0   NaN\n",
       "11     15              4.5   NaN\n",
       "12     18              6.0   NaN\n",
       "13     27             22.5   NaN\n",
       "14     19              7.0   NaN\n",
       "15     22             11.5   NaN\n",
       "16     12              1.5   NaN\n",
       "17     26             19.0   NaN\n",
       "18     34             30.0   NaN\n",
       "19     15              4.5   NaN\n",
       "20     27             22.5   NaN\n",
       "21     35             32.5   NaN\n",
       "22     26             19.0   NaN\n",
       "23     43             38.0   NaN\n",
       "24     35             32.5   NaN\n",
       "25     14              3.0   NaN\n",
       "26     24             15.5   NaN\n",
       "27     12              1.5   NaN\n",
       "28     23             13.5   NaN\n",
       "29     31             28.0   NaN\n",
       "30     40             36.0   NaN\n",
       "31     35             32.5   NaN\n",
       "32     38             35.0   NaN\n",
       "33     57             40.0   NaN\n",
       "34     22             11.5   NaN\n",
       "35     42             37.0   NaN\n",
       "36     24             15.5   NaN\n",
       "37     21             10.0   NaN\n",
       "38     27             22.5   NaN\n",
       "39     33             29.0   NaN"
      ]
     },
     "execution_count": 78,
     "metadata": {},
     "output_type": "execute_result"
    }
   ],
   "source": [
    "da1"
   ]
  },
  {
   "cell_type": "code",
   "execution_count": null,
   "id": "53e807ae",
   "metadata": {},
   "outputs": [],
   "source": []
  },
  {
   "cell_type": "code",
   "execution_count": null,
   "id": "d92a0bd7",
   "metadata": {},
   "outputs": [],
   "source": []
  },
  {
   "cell_type": "markdown",
   "id": "a02a41cc",
   "metadata": {},
   "source": [
    "Q13. What is the shape of the distribution of this dataset? Create an appropriate graph to determine that. Take 100 random samples with replacement from this dataset of size 5 each. Create a sampling distribution of the mean shirt prices. Compare with other sampling distributions of sample size 10, 15, 20, 25, 30. State your observations. Does it corroborate the Central Limit Theorem?"
   ]
  },
  {
   "cell_type": "code",
   "execution_count": 79,
   "id": "5bb8d1c6",
   "metadata": {},
   "outputs": [
    {
     "data": {
      "image/png": "[encoded data removed]",
      "text/plain": [
       "<Figure size 640x480 with 1 Axes>"
      ]
     },
     "metadata": {},
     "output_type": "display_data"
    }
   ],
   "source": [
    "sns.histplot(dat['size'])\n",
    "plt.show()"
   ]
  },
  {
   "cell_type": "markdown",
   "id": "93aaece3",
   "metadata": {},
   "source": [
    "A distribution is said to be positively skewed when the tail on the right side of the histogram is longer than the \n",
    "left side. Most of the values tend to cluster toward the left side of the x-axis (i.e. the smaller values)\n",
    "with increasingly fewer values at the right side of the x-axis (i.e. the larger values).\n",
    "\n"
   ]
  },
  {
   "cell_type": "code",
   "execution_count": 80,
   "id": "85137d10",
   "metadata": {},
   "outputs": [
    {
     "name": "stdout",
     "output_type": "stream",
     "text": [
      "[24.8, 30.4, 26.4, 27.4, 27.8, 31.4, 27.8, 23.4, 27.6, 27.8, 23.2, 27.8, 32.6, 30.8, 28.0, 25.0, 30.8, 21.0, 27.6, 27.2, 28.4, 30.6, 21.0, 30.8, 24.6, 23.6, 30.4, 34.2, 24.6, 20.4, 26.0, 41.2, 21.6, 32.2, 28.4, 23.2, 20.4, 23.4, 25.0, 32.0, 21.2, 29.2, 25.6, 31.6, 15.2, 25.2, 25.6, 26.0, 30.6, 23.2, 28.2, 22.0, 24.8, 31.4, 26.6, 26.6, 20.4, 36.6, 31.2, 27.8, 30.0, 25.2, 23.4, 28.6, 29.4, 25.2, 26.4, 19.0, 31.4, 24.4, 29.8, 32.8, 29.2, 28.4, 27.2, 28.4, 28.4, 27.6, 24.0, 32.2, 26.6, 25.0, 26.2, 26.8, 34.2, 25.0, 26.4, 23.4, 33.4, 27.8, 24.4, 21.8, 25.0, 30.0, 19.0, 32.6, 25.0, 24.4, 25.4, 24.6]\n"
     ]
    },
    {
     "data": {
      "image/png": "[encoded data removed]",
      "text/plain": [
       "<Figure size 640x480 with 1 Axes>"
      ]
     },
     "metadata": {},
     "output_type": "display_data"
    }
   ],
   "source": [
    "sample_size=5\n",
    "n_samples=100\n",
    "population_array=dat['size']\n",
    "# create an empty list to store the means of each sample\n",
    "sample_means = []\n",
    "for i in range(n_samples):\n",
    "    # generates a random sample of size 100 from the population array\n",
    "    sample = np.random.choice(population_array, size=sample_size, replace=True)\n",
    "    sample_mean = np.mean(sample)        # calculate the mean of the sample data\n",
    "    sample_means.append(sample_mean)     # append the mean to the list\n",
    "print(sample_means)   \n",
    "sns.distplot(sample_means)\n",
    "plt.title(\"Sampling Distribution\", fontsize=15)\n",
    "plt.show()"
   ]
  },
  {
   "cell_type": "code",
   "execution_count": null,
   "id": "575d74f7",
   "metadata": {},
   "outputs": [],
   "source": []
  },
  {
   "cell_type": "markdown",
   "id": "d5727d9d",
   "metadata": {},
   "source": [
    "Q14. Treat this dataset as a binomial distribution where p is the probability that a shirt costs above 25 dollars. What is the probability that out of a random sample of 10 shirts 7 are costing more than 25 dollars?"
   ]
  },
  {
   "cell_type": "code",
   "execution_count": 81,
   "id": "aeefb433",
   "metadata": {},
   "outputs": [
    {
     "name": "stdout",
     "output_type": "stream",
     "text": [
      "The probability that out of a random sample of 10 shirts 7 are costing more than 25 dollars is : 0.19143570809682064\n"
     ]
    }
   ],
   "source": [
    "data= dat[dat['size']>25]\n",
    "data=len(data)/len(dat)\n",
    "p=data\n",
    "n=10\n",
    "x=7\n",
    "prob=stats.binom.pmf(x,n,p)\n",
    "print('The probability that out of a random sample of 10 shirts 7 are costing more than 25 dollars is :',prob)\n"
   ]
  },
  {
   "cell_type": "code",
   "execution_count": null,
   "id": "8cbd7fa9",
   "metadata": {},
   "outputs": [],
   "source": []
  },
  {
   "cell_type": "markdown",
   "id": "6b64f666",
   "metadata": {},
   "source": [
    "Q15. NuCloth Claims that 60% of all shirts in their website cost less than 25 dollars . Using the Normal approximation of a Binomial distribution, find the probability that in a random sample of 10 shirts 7 of them will cost less than 25 dollars.\n",
    "[ Note that the normal distribution can be used to approximate a binomial distribution if np>=5 and nq>=5 with the following correction for continuity\n",
    "P(X=z) = P(z-0.5 < X < z+0.5 ) ]"
   ]
  },
  {
   "cell_type": "code",
   "execution_count": 82,
   "id": "ba6731e1",
   "metadata": {},
   "outputs": [
    {
     "name": "stdout",
     "output_type": "stream",
     "text": [
      "find the probability that in a random sample of 10 shirts 7 of them will cost less than 25 dollars is: 0.8327102464\n"
     ]
    }
   ],
   "source": [
    "p=0.6\n",
    "n=10\n",
    "x=7\n",
    "prob= stats.binom.cdf(7,10,0.60)\n",
    "print('find the probability that in a random sample of 10 shirts 7 of them will cost less than 25 dollars is:',prob)"
   ]
  },
  {
   "cell_type": "markdown",
   "id": "c306e5ce",
   "metadata": {},
   "source": [
    "Q16. Compute a 95% Confidence Interval for the true price of a shirt in the NuCloth website using appropriate distribution.( State reasons as to why did you use a z or t distribution)"
   ]
  },
  {
   "cell_type": "code",
   "execution_count": 83,
   "id": "234cbe64",
   "metadata": {},
   "outputs": [
    {
     "name": "stdout",
     "output_type": "stream",
     "text": [
      "1.9599639845400545\n",
      "95% Confidence interval for true price of shirt is: 24.642900805126224 30.607099194873776\n"
     ]
    }
   ],
   "source": [
    "x_bar=np.mean(dat['size'])\n",
    "n=len(dat['size'])\n",
    "sig=np.std(dat['size'],ddof=1)\n",
    "alpha=0.05\n",
    "\n",
    "z_alpha_by_2 = stats.norm.isf(0.05/2)\n",
    "print(z_alpha_by_2)\n",
    "upper = x_bar + z_alpha_by_2 * sig / np.sqrt(n)\n",
    "lower = x_bar - z_alpha_by_2 * sig / np.sqrt(n)\n",
    "print('95% Confidence interval for true price of shirt is:', lower, upper)"
   ]
  },
  {
   "cell_type": "markdown",
   "id": "066f00f9",
   "metadata": {},
   "source": [
    "Q17. A data scientist wants to estimate with 95% confidence the true proportion of shirts having price greater than 25 dollars in the NuCloth website. A recent study showed that 60% of all shirts have a price greater than 25 dollars. The data scientist wants to be accurate within 2% of the true proportion. Find the minimum sample size necessary."
   ]
  },
  {
   "cell_type": "code",
   "execution_count": 84,
   "id": "1e709be8",
   "metadata": {},
   "outputs": [
    {
     "name": "stdout",
     "output_type": "stream",
     "text": [
      "Required Sample Size: 3457\n"
     ]
    }
   ],
   "source": [
    "sigma =0.60\n",
    "margin_of_error = 0.02\n",
    "alpha = 0.05\n",
    "\n",
    "z_alpha_by_2 = stats.norm.isf(0.05/2) \n",
    "# calculate sample size (n) \n",
    "n =(z_alpha_by_2*sigma/margin_of_error )**2\n",
    "print('Required Sample Size:', round(n))"
   ]
  },
  {
   "cell_type": "markdown",
   "id": "f2cd1a59",
   "metadata": {},
   "source": [
    "Q18. The same data scientist wants to estimate the true proportion of shirts having price greater than 25 dollars. She wants to be 90% confident and accurate within 5% of true proportion. Find the minimum sample size necessary."
   ]
  },
  {
   "cell_type": "code",
   "execution_count": 85,
   "id": "505fbd02",
   "metadata": {},
   "outputs": [
    {
     "data": {
      "text/html": [
       "<div>\n",
       "<style scoped>\n",
       "    .dataframe tbody tr th:only-of-type {\n",
       "        vertical-align: middle;\n",
       "    }\n",
       "\n",
       "    .dataframe tbody tr th {\n",
       "        vertical-align: top;\n",
       "    }\n",
       "\n",
       "    .dataframe thead th {\n",
       "        text-align: right;\n",
       "    }\n",
       "</style>\n",
       "<table border=\"1\" class=\"dataframe\">\n",
       "  <thead>\n",
       "    <tr style=\"text-align: right;\">\n",
       "      <th></th>\n",
       "      <th>size</th>\n",
       "    </tr>\n",
       "  </thead>\n",
       "  <tbody>\n",
       "    <tr>\n",
       "      <th>0</th>\n",
       "      <td>23</td>\n",
       "    </tr>\n",
       "    <tr>\n",
       "      <th>1</th>\n",
       "      <td>30</td>\n",
       "    </tr>\n",
       "    <tr>\n",
       "      <th>2</th>\n",
       "      <td>20</td>\n",
       "    </tr>\n",
       "    <tr>\n",
       "      <th>3</th>\n",
       "      <td>27</td>\n",
       "    </tr>\n",
       "    <tr>\n",
       "      <th>4</th>\n",
       "      <td>44</td>\n",
       "    </tr>\n",
       "    <tr>\n",
       "      <th>5</th>\n",
       "      <td>26</td>\n",
       "    </tr>\n",
       "    <tr>\n",
       "      <th>6</th>\n",
       "      <td>35</td>\n",
       "    </tr>\n",
       "    <tr>\n",
       "      <th>7</th>\n",
       "      <td>20</td>\n",
       "    </tr>\n",
       "    <tr>\n",
       "      <th>8</th>\n",
       "      <td>29</td>\n",
       "    </tr>\n",
       "    <tr>\n",
       "      <th>9</th>\n",
       "      <td>29</td>\n",
       "    </tr>\n",
       "    <tr>\n",
       "      <th>10</th>\n",
       "      <td>25</td>\n",
       "    </tr>\n",
       "    <tr>\n",
       "      <th>11</th>\n",
       "      <td>15</td>\n",
       "    </tr>\n",
       "    <tr>\n",
       "      <th>12</th>\n",
       "      <td>18</td>\n",
       "    </tr>\n",
       "    <tr>\n",
       "      <th>13</th>\n",
       "      <td>27</td>\n",
       "    </tr>\n",
       "    <tr>\n",
       "      <th>14</th>\n",
       "      <td>19</td>\n",
       "    </tr>\n",
       "    <tr>\n",
       "      <th>15</th>\n",
       "      <td>22</td>\n",
       "    </tr>\n",
       "    <tr>\n",
       "      <th>16</th>\n",
       "      <td>12</td>\n",
       "    </tr>\n",
       "    <tr>\n",
       "      <th>17</th>\n",
       "      <td>26</td>\n",
       "    </tr>\n",
       "    <tr>\n",
       "      <th>18</th>\n",
       "      <td>34</td>\n",
       "    </tr>\n",
       "    <tr>\n",
       "      <th>19</th>\n",
       "      <td>15</td>\n",
       "    </tr>\n",
       "    <tr>\n",
       "      <th>20</th>\n",
       "      <td>27</td>\n",
       "    </tr>\n",
       "    <tr>\n",
       "      <th>21</th>\n",
       "      <td>35</td>\n",
       "    </tr>\n",
       "    <tr>\n",
       "      <th>22</th>\n",
       "      <td>26</td>\n",
       "    </tr>\n",
       "    <tr>\n",
       "      <th>23</th>\n",
       "      <td>43</td>\n",
       "    </tr>\n",
       "    <tr>\n",
       "      <th>24</th>\n",
       "      <td>35</td>\n",
       "    </tr>\n",
       "    <tr>\n",
       "      <th>25</th>\n",
       "      <td>14</td>\n",
       "    </tr>\n",
       "    <tr>\n",
       "      <th>26</th>\n",
       "      <td>24</td>\n",
       "    </tr>\n",
       "    <tr>\n",
       "      <th>27</th>\n",
       "      <td>12</td>\n",
       "    </tr>\n",
       "    <tr>\n",
       "      <th>28</th>\n",
       "      <td>23</td>\n",
       "    </tr>\n",
       "    <tr>\n",
       "      <th>29</th>\n",
       "      <td>31</td>\n",
       "    </tr>\n",
       "    <tr>\n",
       "      <th>30</th>\n",
       "      <td>40</td>\n",
       "    </tr>\n",
       "    <tr>\n",
       "      <th>31</th>\n",
       "      <td>35</td>\n",
       "    </tr>\n",
       "    <tr>\n",
       "      <th>32</th>\n",
       "      <td>38</td>\n",
       "    </tr>\n",
       "    <tr>\n",
       "      <th>33</th>\n",
       "      <td>57</td>\n",
       "    </tr>\n",
       "    <tr>\n",
       "      <th>34</th>\n",
       "      <td>22</td>\n",
       "    </tr>\n",
       "    <tr>\n",
       "      <th>35</th>\n",
       "      <td>42</td>\n",
       "    </tr>\n",
       "    <tr>\n",
       "      <th>36</th>\n",
       "      <td>24</td>\n",
       "    </tr>\n",
       "    <tr>\n",
       "      <th>37</th>\n",
       "      <td>21</td>\n",
       "    </tr>\n",
       "    <tr>\n",
       "      <th>38</th>\n",
       "      <td>27</td>\n",
       "    </tr>\n",
       "    <tr>\n",
       "      <th>39</th>\n",
       "      <td>33</td>\n",
       "    </tr>\n",
       "  </tbody>\n",
       "</table>\n",
       "</div>"
      ],
      "text/plain": [
       "    size\n",
       "0     23\n",
       "1     30\n",
       "2     20\n",
       "3     27\n",
       "4     44\n",
       "5     26\n",
       "6     35\n",
       "7     20\n",
       "8     29\n",
       "9     29\n",
       "10    25\n",
       "11    15\n",
       "12    18\n",
       "13    27\n",
       "14    19\n",
       "15    22\n",
       "16    12\n",
       "17    26\n",
       "18    34\n",
       "19    15\n",
       "20    27\n",
       "21    35\n",
       "22    26\n",
       "23    43\n",
       "24    35\n",
       "25    14\n",
       "26    24\n",
       "27    12\n",
       "28    23\n",
       "29    31\n",
       "30    40\n",
       "31    35\n",
       "32    38\n",
       "33    57\n",
       "34    22\n",
       "35    42\n",
       "36    24\n",
       "37    21\n",
       "38    27\n",
       "39    33"
      ]
     },
     "execution_count": 85,
     "metadata": {},
     "output_type": "execute_result"
    }
   ],
   "source": [
    "df_1=dat.drop(['Percentile Rank'], axis=1)\n",
    "df_1"
   ]
  },
  {
   "cell_type": "code",
   "execution_count": 86,
   "id": "80e23d56",
   "metadata": {},
   "outputs": [
    {
     "data": {
      "text/html": [
       "<div>\n",
       "<style scoped>\n",
       "    .dataframe tbody tr th:only-of-type {\n",
       "        vertical-align: middle;\n",
       "    }\n",
       "\n",
       "    .dataframe tbody tr th {\n",
       "        vertical-align: top;\n",
       "    }\n",
       "\n",
       "    .dataframe thead th {\n",
       "        text-align: right;\n",
       "    }\n",
       "</style>\n",
       "<table border=\"1\" class=\"dataframe\">\n",
       "  <thead>\n",
       "    <tr style=\"text-align: right;\">\n",
       "      <th></th>\n",
       "      <th>size</th>\n",
       "    </tr>\n",
       "  </thead>\n",
       "  <tbody>\n",
       "    <tr>\n",
       "      <th>1</th>\n",
       "      <td>30</td>\n",
       "    </tr>\n",
       "    <tr>\n",
       "      <th>3</th>\n",
       "      <td>27</td>\n",
       "    </tr>\n",
       "    <tr>\n",
       "      <th>4</th>\n",
       "      <td>44</td>\n",
       "    </tr>\n",
       "    <tr>\n",
       "      <th>5</th>\n",
       "      <td>26</td>\n",
       "    </tr>\n",
       "    <tr>\n",
       "      <th>6</th>\n",
       "      <td>35</td>\n",
       "    </tr>\n",
       "    <tr>\n",
       "      <th>8</th>\n",
       "      <td>29</td>\n",
       "    </tr>\n",
       "    <tr>\n",
       "      <th>9</th>\n",
       "      <td>29</td>\n",
       "    </tr>\n",
       "    <tr>\n",
       "      <th>13</th>\n",
       "      <td>27</td>\n",
       "    </tr>\n",
       "    <tr>\n",
       "      <th>17</th>\n",
       "      <td>26</td>\n",
       "    </tr>\n",
       "    <tr>\n",
       "      <th>18</th>\n",
       "      <td>34</td>\n",
       "    </tr>\n",
       "    <tr>\n",
       "      <th>20</th>\n",
       "      <td>27</td>\n",
       "    </tr>\n",
       "    <tr>\n",
       "      <th>21</th>\n",
       "      <td>35</td>\n",
       "    </tr>\n",
       "    <tr>\n",
       "      <th>22</th>\n",
       "      <td>26</td>\n",
       "    </tr>\n",
       "    <tr>\n",
       "      <th>23</th>\n",
       "      <td>43</td>\n",
       "    </tr>\n",
       "    <tr>\n",
       "      <th>24</th>\n",
       "      <td>35</td>\n",
       "    </tr>\n",
       "    <tr>\n",
       "      <th>29</th>\n",
       "      <td>31</td>\n",
       "    </tr>\n",
       "    <tr>\n",
       "      <th>30</th>\n",
       "      <td>40</td>\n",
       "    </tr>\n",
       "    <tr>\n",
       "      <th>31</th>\n",
       "      <td>35</td>\n",
       "    </tr>\n",
       "    <tr>\n",
       "      <th>32</th>\n",
       "      <td>38</td>\n",
       "    </tr>\n",
       "    <tr>\n",
       "      <th>33</th>\n",
       "      <td>57</td>\n",
       "    </tr>\n",
       "    <tr>\n",
       "      <th>35</th>\n",
       "      <td>42</td>\n",
       "    </tr>\n",
       "    <tr>\n",
       "      <th>38</th>\n",
       "      <td>27</td>\n",
       "    </tr>\n",
       "    <tr>\n",
       "      <th>39</th>\n",
       "      <td>33</td>\n",
       "    </tr>\n",
       "  </tbody>\n",
       "</table>\n",
       "</div>"
      ],
      "text/plain": [
       "    size\n",
       "1     30\n",
       "3     27\n",
       "4     44\n",
       "5     26\n",
       "6     35\n",
       "8     29\n",
       "9     29\n",
       "13    27\n",
       "17    26\n",
       "18    34\n",
       "20    27\n",
       "21    35\n",
       "22    26\n",
       "23    43\n",
       "24    35\n",
       "29    31\n",
       "30    40\n",
       "31    35\n",
       "32    38\n",
       "33    57\n",
       "35    42\n",
       "38    27\n",
       "39    33"
      ]
     },
     "execution_count": 86,
     "metadata": {},
     "output_type": "execute_result"
    }
   ],
   "source": [
    "df_2=df_1[(df_1['size'])>25]\n",
    "df_2"
   ]
  },
  {
   "cell_type": "code",
   "execution_count": 87,
   "id": "52f64829",
   "metadata": {},
   "outputs": [
    {
     "name": "stdout",
     "output_type": "stream",
     "text": [
      "0.6\n"
     ]
    },
    {
     "data": {
      "text/plain": [
       "389.5982573897397"
      ]
     },
     "execution_count": 87,
     "metadata": {},
     "output_type": "execute_result"
    }
   ],
   "source": [
    "sigma =0.6\n",
    "print(sigma)\n",
    "margin_of_error = 0.05\n",
    "alpha = 0.1\n",
    "\n",
    "z_alpha_2 = stats.norm.isf(0.1/2)\n",
    "z_alpha_2\n",
    "# calculate sample size (n)\n",
    "n=(z_alpha_2 * sigma/margin_of_error)**2\n",
    "n"
   ]
  },
  {
   "cell_type": "code",
   "execution_count": null,
   "id": "b494cb50",
   "metadata": {},
   "outputs": [],
   "source": []
  },
  {
   "cell_type": "markdown",
   "id": "84a8f2f8",
   "metadata": {},
   "source": [
    "Q19. NuCloth claims that currently 80% of all shirts have prices greater than 25 dollars . Test this claim with an alpha =0.05 if out of a random sample of 30 shirts only 23 are having prices above 25 dollars."
   ]
  },
  {
   "cell_type": "code",
   "execution_count": 88,
   "id": "0085843b",
   "metadata": {},
   "outputs": [
    {
     "name": "stdout",
     "output_type": "stream",
     "text": [
      "Test stat -0.45643546458763834\n",
      "0.6759615659304269\n"
     ]
    }
   ],
   "source": [
    "#H0:mu=80\n",
    "#H1:mu<0.80\n",
    "hypo_p=0.8\n",
    "x=23\n",
    "n=30\n",
    "p_samp=x/n\n",
    "z_stat=(p_samp-hypo_p)/np.sqrt((hypo_p*(1-hypo_p))/n)\n",
    "p_val=stats.norm.sf(z_stat)\n",
    "print('Test stat',z_stat)\n",
    "print(p_val)"
   ]
  },
  {
   "cell_type": "markdown",
   "id": "ef1e0d17",
   "metadata": {},
   "source": [
    "As p_value >alpha(0.05) we fail to reject null hypothesis ,hence 80% of shirts have prices greater than 25."
   ]
  },
  {
   "cell_type": "markdown",
   "id": "1607eb6c",
   "metadata": {},
   "source": [
    "As Zstat is > z_critical so we reject H0"
   ]
  },
  {
   "cell_type": "markdown",
   "id": "c91ad2f9",
   "metadata": {},
   "source": [
    "Q20. A data scientist is researching the hypothesis that the average price of a shirt in NuCloth is higher than the supermarket. So he collects data from NuCloth and the supermarket that the average shirt price of shirts in NuCloth is 36 dollars vs 34 dollars in the supermarket. The standard deviations are 7.6 and 5.8 respectively.Suppose the data scientist got these values after randomly selecting 100 shirts from each place.\n"
   ]
  },
  {
   "cell_type": "markdown",
   "id": "779d74d2",
   "metadata": {},
   "source": [
    "H0:mu_of_NuCloth-mu_of_supermarket<=0\n",
    "\n",
    "H1:mu_of_NuCloth-mu_of_supermarket>0"
   ]
  },
  {
   "cell_type": "markdown",
   "id": "a247fcba",
   "metadata": {},
   "source": [
    "a. What hypothesis would he use to compare the shirt prices of NuCloth vs\n",
    "Supermarket\n"
   ]
  },
  {
   "cell_type": "code",
   "execution_count": 89,
   "id": "3beb4493",
   "metadata": {},
   "outputs": [
    {
     "name": "stdout",
     "output_type": "stream",
     "text": [
      "z-score: 2.09197696327652\n"
     ]
    }
   ],
   "source": [
    "x1_bar=36\n",
    "x2_bar=34\n",
    "s1=7.6\n",
    "s2=5.8\n",
    "n1=100\n",
    "n2=100\n",
    "null_value=0\n",
    "denominator = np.sqrt((s1**2 / n1) + (s2**2 / n2))\n",
    "zscore = ((x1_bar - x2_bar) - (null_value)) / denominator\n",
    "print('z-score:', zscore)"
   ]
  },
  {
   "cell_type": "markdown",
   "id": "8d5048a2",
   "metadata": {},
   "source": [
    "b. What are critical values to be used?\n"
   ]
  },
  {
   "cell_type": "code",
   "execution_count": 90,
   "id": "70a11147",
   "metadata": {},
   "outputs": [
    {
     "data": {
      "text/plain": [
       "1.96"
      ]
     },
     "execution_count": 90,
     "metadata": {},
     "output_type": "execute_result"
    }
   ],
   "source": [
    "z_critical = round(stats.norm.isf(0.05/2), 2)\n",
    "z_critical"
   ]
  },
  {
   "cell_type": "markdown",
   "id": "b081d56e",
   "metadata": {},
   "source": [
    "c. What statistical test will be used to compare these prices?\n"
   ]
  },
  {
   "cell_type": "markdown",
   "id": "6aa9e1c4",
   "metadata": {},
   "source": [
    "As Zstat is > z_critical so we reject H0\n"
   ]
  },
  {
   "cell_type": "markdown",
   "id": "04c0d032",
   "metadata": {},
   "source": [
    "d. Complete the test and obtain the P-value.\n"
   ]
  },
  {
   "cell_type": "code",
   "execution_count": 91,
   "id": "1aaae693",
   "metadata": {},
   "outputs": [
    {
     "data": {
      "text/plain": [
       "0.018220288245112185"
      ]
     },
     "execution_count": 91,
     "metadata": {},
     "output_type": "execute_result"
    }
   ],
   "source": [
    "p_val=stats.norm.sf(zscore)\n",
    "p_val"
   ]
  },
  {
   "cell_type": "markdown",
   "id": "0fe994f4",
   "metadata": {},
   "source": [
    "e. Summarize his conclusion based on the P-value."
   ]
  },
  {
   "cell_type": "markdown",
   "id": "5f1ef5de",
   "metadata": {},
   "source": []
  },
  {
   "cell_type": "markdown",
   "id": "7c27353f",
   "metadata": {},
   "source": [
    "As p_val < alpha(0.05) Hence we reject null Hypothesis so the claim of Data scientist that average price of Nucloth Shirt \n",
    "is more than Supermarket is correct."
   ]
  },
  {
   "cell_type": "markdown",
   "id": "ae816b57",
   "metadata": {},
   "source": [
    "## STATS MINI PROJECT"
   ]
  },
  {
   "cell_type": "code",
   "execution_count": 92,
   "id": "155f278c",
   "metadata": {},
   "outputs": [
    {
     "data": {
      "text/html": [
       "<div>\n",
       "<style scoped>\n",
       "    .dataframe tbody tr th:only-of-type {\n",
       "        vertical-align: middle;\n",
       "    }\n",
       "\n",
       "    .dataframe tbody tr th {\n",
       "        vertical-align: top;\n",
       "    }\n",
       "\n",
       "    .dataframe thead th {\n",
       "        text-align: right;\n",
       "    }\n",
       "</style>\n",
       "<table border=\"1\" class=\"dataframe\">\n",
       "  <thead>\n",
       "    <tr style=\"text-align: right;\">\n",
       "      <th></th>\n",
       "      <th>item_id</th>\n",
       "      <th>waist</th>\n",
       "      <th>size</th>\n",
       "      <th>quality</th>\n",
       "      <th>cup size</th>\n",
       "      <th>hips</th>\n",
       "      <th>bra size</th>\n",
       "      <th>category</th>\n",
       "      <th>bust</th>\n",
       "      <th>height</th>\n",
       "      <th>user_name</th>\n",
       "      <th>length</th>\n",
       "      <th>fit</th>\n",
       "      <th>user_id</th>\n",
       "      <th>shoe size</th>\n",
       "      <th>shoe width</th>\n",
       "      <th>review_summary</th>\n",
       "      <th>review_text</th>\n",
       "    </tr>\n",
       "  </thead>\n",
       "  <tbody>\n",
       "    <tr>\n",
       "      <th>0</th>\n",
       "      <td>123373</td>\n",
       "      <td>29.0</td>\n",
       "      <td>7</td>\n",
       "      <td>5.0</td>\n",
       "      <td>d</td>\n",
       "      <td>38.0</td>\n",
       "      <td>34.0</td>\n",
       "      <td>new</td>\n",
       "      <td>36</td>\n",
       "      <td>5ft 6in</td>\n",
       "      <td>Emily</td>\n",
       "      <td>just right</td>\n",
       "      <td>small</td>\n",
       "      <td>991571</td>\n",
       "      <td>NaN</td>\n",
       "      <td>NaN</td>\n",
       "      <td>NaN</td>\n",
       "      <td>NaN</td>\n",
       "    </tr>\n",
       "    <tr>\n",
       "      <th>1</th>\n",
       "      <td>123373</td>\n",
       "      <td>31.0</td>\n",
       "      <td>13</td>\n",
       "      <td>3.0</td>\n",
       "      <td>b</td>\n",
       "      <td>30.0</td>\n",
       "      <td>36.0</td>\n",
       "      <td>new</td>\n",
       "      <td>NaN</td>\n",
       "      <td>5ft 2in</td>\n",
       "      <td>sydneybraden2001</td>\n",
       "      <td>just right</td>\n",
       "      <td>small</td>\n",
       "      <td>587883</td>\n",
       "      <td>NaN</td>\n",
       "      <td>NaN</td>\n",
       "      <td>NaN</td>\n",
       "      <td>NaN</td>\n",
       "    </tr>\n",
       "    <tr>\n",
       "      <th>2</th>\n",
       "      <td>123373</td>\n",
       "      <td>30.0</td>\n",
       "      <td>7</td>\n",
       "      <td>2.0</td>\n",
       "      <td>b</td>\n",
       "      <td>NaN</td>\n",
       "      <td>32.0</td>\n",
       "      <td>new</td>\n",
       "      <td>NaN</td>\n",
       "      <td>5ft 7in</td>\n",
       "      <td>Ugggh</td>\n",
       "      <td>slightly long</td>\n",
       "      <td>small</td>\n",
       "      <td>395665</td>\n",
       "      <td>9.0</td>\n",
       "      <td>NaN</td>\n",
       "      <td>NaN</td>\n",
       "      <td>NaN</td>\n",
       "    </tr>\n",
       "    <tr>\n",
       "      <th>3</th>\n",
       "      <td>123373</td>\n",
       "      <td>NaN</td>\n",
       "      <td>21</td>\n",
       "      <td>5.0</td>\n",
       "      <td>dd/e</td>\n",
       "      <td>NaN</td>\n",
       "      <td>NaN</td>\n",
       "      <td>new</td>\n",
       "      <td>NaN</td>\n",
       "      <td>NaN</td>\n",
       "      <td>alexmeyer626</td>\n",
       "      <td>just right</td>\n",
       "      <td>fit</td>\n",
       "      <td>875643</td>\n",
       "      <td>NaN</td>\n",
       "      <td>NaN</td>\n",
       "      <td>NaN</td>\n",
       "      <td>NaN</td>\n",
       "    </tr>\n",
       "    <tr>\n",
       "      <th>4</th>\n",
       "      <td>123373</td>\n",
       "      <td>NaN</td>\n",
       "      <td>18</td>\n",
       "      <td>5.0</td>\n",
       "      <td>b</td>\n",
       "      <td>NaN</td>\n",
       "      <td>36.0</td>\n",
       "      <td>new</td>\n",
       "      <td>NaN</td>\n",
       "      <td>5ft 2in</td>\n",
       "      <td>dberrones1</td>\n",
       "      <td>slightly long</td>\n",
       "      <td>small</td>\n",
       "      <td>944840</td>\n",
       "      <td>NaN</td>\n",
       "      <td>NaN</td>\n",
       "      <td>NaN</td>\n",
       "      <td>NaN</td>\n",
       "    </tr>\n",
       "  </tbody>\n",
       "</table>\n",
       "</div>"
      ],
      "text/plain": [
       "   item_id  waist  size  quality cup size  hips  bra size category bust  \\\n",
       "0   123373   29.0     7      5.0        d  38.0      34.0      new   36   \n",
       "1   123373   31.0    13      3.0        b  30.0      36.0      new  NaN   \n",
       "2   123373   30.0     7      2.0        b   NaN      32.0      new  NaN   \n",
       "3   123373    NaN    21      5.0     dd/e   NaN       NaN      new  NaN   \n",
       "4   123373    NaN    18      5.0        b   NaN      36.0      new  NaN   \n",
       "\n",
       "    height         user_name         length    fit  user_id  shoe size  \\\n",
       "0  5ft 6in             Emily     just right  small   991571        NaN   \n",
       "1  5ft 2in  sydneybraden2001     just right  small   587883        NaN   \n",
       "2  5ft 7in             Ugggh  slightly long  small   395665        9.0   \n",
       "3      NaN      alexmeyer626     just right    fit   875643        NaN   \n",
       "4  5ft 2in        dberrones1  slightly long  small   944840        NaN   \n",
       "\n",
       "  shoe width review_summary review_text  \n",
       "0        NaN            NaN         NaN  \n",
       "1        NaN            NaN         NaN  \n",
       "2        NaN            NaN         NaN  \n",
       "3        NaN            NaN         NaN  \n",
       "4        NaN            NaN         NaN  "
      ]
     },
     "execution_count": 92,
     "metadata": {},
     "output_type": "execute_result"
    }
   ],
   "source": [
    "js=pd.read_json('modcloth_final_data.json',lines=True)\n",
    "js.head()"
   ]
  },
  {
   "cell_type": "markdown",
   "id": "2fe26886",
   "metadata": {},
   "source": [
    "1. Read the datasets, Check the data types and Change the data types appropriately."
   ]
  },
  {
   "cell_type": "code",
   "execution_count": 93,
   "id": "000d35d2",
   "metadata": {},
   "outputs": [
    {
     "data": {
      "text/plain": [
       "item_id             int64\n",
       "waist             float64\n",
       "size                int64\n",
       "quality           float64\n",
       "cup size           object\n",
       "hips              float64\n",
       "bra size          float64\n",
       "category           object\n",
       "bust               object\n",
       "height             object\n",
       "user_name          object\n",
       "length             object\n",
       "fit                object\n",
       "user_id             int64\n",
       "shoe size         float64\n",
       "shoe width         object\n",
       "review_summary     object\n",
       "review_text        object\n",
       "dtype: object"
      ]
     },
     "execution_count": 93,
     "metadata": {},
     "output_type": "execute_result"
    }
   ],
   "source": [
    "js.dtypes"
   ]
  },
  {
   "cell_type": "code",
   "execution_count": 94,
   "id": "0b3b7638",
   "metadata": {},
   "outputs": [
    {
     "data": {
      "text/plain": [
       "(82790, 18)"
      ]
     },
     "execution_count": 94,
     "metadata": {},
     "output_type": "execute_result"
    }
   ],
   "source": [
    "js.shape"
   ]
  },
  {
   "cell_type": "markdown",
   "id": "6285e7d1",
   "metadata": {},
   "source": [
    "2. Change the height column datatype to float after converting the values as shown\n"
   ]
  },
  {
   "cell_type": "code",
   "execution_count": 95,
   "id": "a6c1acc2",
   "metadata": {},
   "outputs": [],
   "source": [
    "js['height'] = js['height'].str.replace('\\D+','.')"
   ]
  },
  {
   "cell_type": "code",
   "execution_count": 96,
   "id": "6fbb05fa",
   "metadata": {},
   "outputs": [],
   "source": [
    "js['height'] = js['height'].str.rstrip('.')"
   ]
  },
  {
   "cell_type": "code",
   "execution_count": 97,
   "id": "17efc310",
   "metadata": {},
   "outputs": [
    {
     "data": {
      "text/html": [
       "<div>\n",
       "<style scoped>\n",
       "    .dataframe tbody tr th:only-of-type {\n",
       "        vertical-align: middle;\n",
       "    }\n",
       "\n",
       "    .dataframe tbody tr th {\n",
       "        vertical-align: top;\n",
       "    }\n",
       "\n",
       "    .dataframe thead th {\n",
       "        text-align: right;\n",
       "    }\n",
       "</style>\n",
       "<table border=\"1\" class=\"dataframe\">\n",
       "  <thead>\n",
       "    <tr style=\"text-align: right;\">\n",
       "      <th></th>\n",
       "      <th>item_id</th>\n",
       "      <th>waist</th>\n",
       "      <th>size</th>\n",
       "      <th>quality</th>\n",
       "      <th>cup size</th>\n",
       "      <th>hips</th>\n",
       "      <th>bra size</th>\n",
       "      <th>category</th>\n",
       "      <th>bust</th>\n",
       "      <th>height</th>\n",
       "      <th>user_name</th>\n",
       "      <th>length</th>\n",
       "      <th>fit</th>\n",
       "      <th>user_id</th>\n",
       "      <th>shoe size</th>\n",
       "      <th>shoe width</th>\n",
       "      <th>review_summary</th>\n",
       "      <th>review_text</th>\n",
       "    </tr>\n",
       "  </thead>\n",
       "  <tbody>\n",
       "    <tr>\n",
       "      <th>0</th>\n",
       "      <td>123373</td>\n",
       "      <td>29.0</td>\n",
       "      <td>7</td>\n",
       "      <td>5.0</td>\n",
       "      <td>d</td>\n",
       "      <td>38.0</td>\n",
       "      <td>34.0</td>\n",
       "      <td>new</td>\n",
       "      <td>36</td>\n",
       "      <td>5.6</td>\n",
       "      <td>Emily</td>\n",
       "      <td>just right</td>\n",
       "      <td>small</td>\n",
       "      <td>991571</td>\n",
       "      <td>NaN</td>\n",
       "      <td>NaN</td>\n",
       "      <td>NaN</td>\n",
       "      <td>NaN</td>\n",
       "    </tr>\n",
       "    <tr>\n",
       "      <th>1</th>\n",
       "      <td>123373</td>\n",
       "      <td>31.0</td>\n",
       "      <td>13</td>\n",
       "      <td>3.0</td>\n",
       "      <td>b</td>\n",
       "      <td>30.0</td>\n",
       "      <td>36.0</td>\n",
       "      <td>new</td>\n",
       "      <td>NaN</td>\n",
       "      <td>5.2</td>\n",
       "      <td>sydneybraden2001</td>\n",
       "      <td>just right</td>\n",
       "      <td>small</td>\n",
       "      <td>587883</td>\n",
       "      <td>NaN</td>\n",
       "      <td>NaN</td>\n",
       "      <td>NaN</td>\n",
       "      <td>NaN</td>\n",
       "    </tr>\n",
       "    <tr>\n",
       "      <th>2</th>\n",
       "      <td>123373</td>\n",
       "      <td>30.0</td>\n",
       "      <td>7</td>\n",
       "      <td>2.0</td>\n",
       "      <td>b</td>\n",
       "      <td>NaN</td>\n",
       "      <td>32.0</td>\n",
       "      <td>new</td>\n",
       "      <td>NaN</td>\n",
       "      <td>5.7</td>\n",
       "      <td>Ugggh</td>\n",
       "      <td>slightly long</td>\n",
       "      <td>small</td>\n",
       "      <td>395665</td>\n",
       "      <td>9.0</td>\n",
       "      <td>NaN</td>\n",
       "      <td>NaN</td>\n",
       "      <td>NaN</td>\n",
       "    </tr>\n",
       "    <tr>\n",
       "      <th>3</th>\n",
       "      <td>123373</td>\n",
       "      <td>NaN</td>\n",
       "      <td>21</td>\n",
       "      <td>5.0</td>\n",
       "      <td>dd/e</td>\n",
       "      <td>NaN</td>\n",
       "      <td>NaN</td>\n",
       "      <td>new</td>\n",
       "      <td>NaN</td>\n",
       "      <td>NaN</td>\n",
       "      <td>alexmeyer626</td>\n",
       "      <td>just right</td>\n",
       "      <td>fit</td>\n",
       "      <td>875643</td>\n",
       "      <td>NaN</td>\n",
       "      <td>NaN</td>\n",
       "      <td>NaN</td>\n",
       "      <td>NaN</td>\n",
       "    </tr>\n",
       "    <tr>\n",
       "      <th>4</th>\n",
       "      <td>123373</td>\n",
       "      <td>NaN</td>\n",
       "      <td>18</td>\n",
       "      <td>5.0</td>\n",
       "      <td>b</td>\n",
       "      <td>NaN</td>\n",
       "      <td>36.0</td>\n",
       "      <td>new</td>\n",
       "      <td>NaN</td>\n",
       "      <td>5.2</td>\n",
       "      <td>dberrones1</td>\n",
       "      <td>slightly long</td>\n",
       "      <td>small</td>\n",
       "      <td>944840</td>\n",
       "      <td>NaN</td>\n",
       "      <td>NaN</td>\n",
       "      <td>NaN</td>\n",
       "      <td>NaN</td>\n",
       "    </tr>\n",
       "  </tbody>\n",
       "</table>\n",
       "</div>"
      ],
      "text/plain": [
       "   item_id  waist  size  quality cup size  hips  bra size category bust  \\\n",
       "0   123373   29.0     7      5.0        d  38.0      34.0      new   36   \n",
       "1   123373   31.0    13      3.0        b  30.0      36.0      new  NaN   \n",
       "2   123373   30.0     7      2.0        b   NaN      32.0      new  NaN   \n",
       "3   123373    NaN    21      5.0     dd/e   NaN       NaN      new  NaN   \n",
       "4   123373    NaN    18      5.0        b   NaN      36.0      new  NaN   \n",
       "\n",
       "  height         user_name         length    fit  user_id  shoe size  \\\n",
       "0    5.6             Emily     just right  small   991571        NaN   \n",
       "1    5.2  sydneybraden2001     just right  small   587883        NaN   \n",
       "2    5.7             Ugggh  slightly long  small   395665        9.0   \n",
       "3    NaN      alexmeyer626     just right    fit   875643        NaN   \n",
       "4    5.2        dberrones1  slightly long  small   944840        NaN   \n",
       "\n",
       "  shoe width review_summary review_text  \n",
       "0        NaN            NaN         NaN  \n",
       "1        NaN            NaN         NaN  \n",
       "2        NaN            NaN         NaN  \n",
       "3        NaN            NaN         NaN  \n",
       "4        NaN            NaN         NaN  "
      ]
     },
     "execution_count": 97,
     "metadata": {},
     "output_type": "execute_result"
    }
   ],
   "source": [
    "js.head()"
   ]
  },
  {
   "cell_type": "code",
   "execution_count": 98,
   "id": "034ad8b5",
   "metadata": {},
   "outputs": [],
   "source": [
    "js[['height']] = js[['height']].astype(float)"
   ]
  },
  {
   "cell_type": "code",
   "execution_count": 99,
   "id": "d489a2c0",
   "metadata": {},
   "outputs": [],
   "source": [
    "js[['quality']] = js[['quality']].astype(float)"
   ]
  },
  {
   "cell_type": "code",
   "execution_count": 100,
   "id": "8f9e367e",
   "metadata": {},
   "outputs": [
    {
     "name": "stdout",
     "output_type": "stream",
     "text": [
      "<class 'pandas.core.frame.DataFrame'>\n",
      "RangeIndex: 82790 entries, 0 to 82789\n",
      "Data columns (total 18 columns):\n",
      " #   Column          Non-Null Count  Dtype  \n",
      "---  ------          --------------  -----  \n",
      " 0   item_id         82790 non-null  int64  \n",
      " 1   waist           2882 non-null   float64\n",
      " 2   size            82790 non-null  int64  \n",
      " 3   quality         82722 non-null  float64\n",
      " 4   cup size        76535 non-null  object \n",
      " 5   hips            56064 non-null  float64\n",
      " 6   bra size        76772 non-null  float64\n",
      " 7   category        82790 non-null  object \n",
      " 8   bust            11854 non-null  object \n",
      " 9   height          81683 non-null  float64\n",
      " 10  user_name       82790 non-null  object \n",
      " 11  length          82755 non-null  object \n",
      " 12  fit             82790 non-null  object \n",
      " 13  user_id         82790 non-null  int64  \n",
      " 14  shoe size       27915 non-null  float64\n",
      " 15  shoe width      18607 non-null  object \n",
      " 16  review_summary  76065 non-null  object \n",
      " 17  review_text     76065 non-null  object \n",
      "dtypes: float64(6), int64(3), object(9)\n",
      "memory usage: 11.4+ MB\n"
     ]
    }
   ],
   "source": [
    "js.info()"
   ]
  },
  {
   "cell_type": "markdown",
   "id": "51bb0223",
   "metadata": {},
   "source": [
    "3. Rename the names of the columns which have space in between the column.\n",
    "Ex: shoe size as shoe_size etc."
   ]
  },
  {
   "cell_type": "code",
   "execution_count": 101,
   "id": "4f9654a0",
   "metadata": {},
   "outputs": [
    {
     "data": {
      "text/html": [
       "<div>\n",
       "<style scoped>\n",
       "    .dataframe tbody tr th:only-of-type {\n",
       "        vertical-align: middle;\n",
       "    }\n",
       "\n",
       "    .dataframe tbody tr th {\n",
       "        vertical-align: top;\n",
       "    }\n",
       "\n",
       "    .dataframe thead th {\n",
       "        text-align: right;\n",
       "    }\n",
       "</style>\n",
       "<table border=\"1\" class=\"dataframe\">\n",
       "  <thead>\n",
       "    <tr style=\"text-align: right;\">\n",
       "      <th></th>\n",
       "      <th>item_id</th>\n",
       "      <th>waist</th>\n",
       "      <th>size</th>\n",
       "      <th>quality</th>\n",
       "      <th>cup_size</th>\n",
       "      <th>hips</th>\n",
       "      <th>bra_size</th>\n",
       "      <th>category</th>\n",
       "      <th>bust</th>\n",
       "      <th>height</th>\n",
       "      <th>user_name</th>\n",
       "      <th>length</th>\n",
       "      <th>fit</th>\n",
       "      <th>user_id</th>\n",
       "      <th>shoe_size</th>\n",
       "      <th>shoe_width</th>\n",
       "      <th>review_summary</th>\n",
       "      <th>review_text</th>\n",
       "    </tr>\n",
       "  </thead>\n",
       "  <tbody>\n",
       "    <tr>\n",
       "      <th>0</th>\n",
       "      <td>123373</td>\n",
       "      <td>29.0</td>\n",
       "      <td>7</td>\n",
       "      <td>5.0</td>\n",
       "      <td>d</td>\n",
       "      <td>38.0</td>\n",
       "      <td>34.0</td>\n",
       "      <td>new</td>\n",
       "      <td>36</td>\n",
       "      <td>5.6</td>\n",
       "      <td>Emily</td>\n",
       "      <td>just right</td>\n",
       "      <td>small</td>\n",
       "      <td>991571</td>\n",
       "      <td>NaN</td>\n",
       "      <td>NaN</td>\n",
       "      <td>NaN</td>\n",
       "      <td>NaN</td>\n",
       "    </tr>\n",
       "    <tr>\n",
       "      <th>1</th>\n",
       "      <td>123373</td>\n",
       "      <td>31.0</td>\n",
       "      <td>13</td>\n",
       "      <td>3.0</td>\n",
       "      <td>b</td>\n",
       "      <td>30.0</td>\n",
       "      <td>36.0</td>\n",
       "      <td>new</td>\n",
       "      <td>NaN</td>\n",
       "      <td>5.2</td>\n",
       "      <td>sydneybraden2001</td>\n",
       "      <td>just right</td>\n",
       "      <td>small</td>\n",
       "      <td>587883</td>\n",
       "      <td>NaN</td>\n",
       "      <td>NaN</td>\n",
       "      <td>NaN</td>\n",
       "      <td>NaN</td>\n",
       "    </tr>\n",
       "    <tr>\n",
       "      <th>2</th>\n",
       "      <td>123373</td>\n",
       "      <td>30.0</td>\n",
       "      <td>7</td>\n",
       "      <td>2.0</td>\n",
       "      <td>b</td>\n",
       "      <td>NaN</td>\n",
       "      <td>32.0</td>\n",
       "      <td>new</td>\n",
       "      <td>NaN</td>\n",
       "      <td>5.7</td>\n",
       "      <td>Ugggh</td>\n",
       "      <td>slightly long</td>\n",
       "      <td>small</td>\n",
       "      <td>395665</td>\n",
       "      <td>9.0</td>\n",
       "      <td>NaN</td>\n",
       "      <td>NaN</td>\n",
       "      <td>NaN</td>\n",
       "    </tr>\n",
       "    <tr>\n",
       "      <th>3</th>\n",
       "      <td>123373</td>\n",
       "      <td>NaN</td>\n",
       "      <td>21</td>\n",
       "      <td>5.0</td>\n",
       "      <td>dd/e</td>\n",
       "      <td>NaN</td>\n",
       "      <td>NaN</td>\n",
       "      <td>new</td>\n",
       "      <td>NaN</td>\n",
       "      <td>NaN</td>\n",
       "      <td>alexmeyer626</td>\n",
       "      <td>just right</td>\n",
       "      <td>fit</td>\n",
       "      <td>875643</td>\n",
       "      <td>NaN</td>\n",
       "      <td>NaN</td>\n",
       "      <td>NaN</td>\n",
       "      <td>NaN</td>\n",
       "    </tr>\n",
       "    <tr>\n",
       "      <th>4</th>\n",
       "      <td>123373</td>\n",
       "      <td>NaN</td>\n",
       "      <td>18</td>\n",
       "      <td>5.0</td>\n",
       "      <td>b</td>\n",
       "      <td>NaN</td>\n",
       "      <td>36.0</td>\n",
       "      <td>new</td>\n",
       "      <td>NaN</td>\n",
       "      <td>5.2</td>\n",
       "      <td>dberrones1</td>\n",
       "      <td>slightly long</td>\n",
       "      <td>small</td>\n",
       "      <td>944840</td>\n",
       "      <td>NaN</td>\n",
       "      <td>NaN</td>\n",
       "      <td>NaN</td>\n",
       "      <td>NaN</td>\n",
       "    </tr>\n",
       "  </tbody>\n",
       "</table>\n",
       "</div>"
      ],
      "text/plain": [
       "   item_id  waist  size  quality cup_size  hips  bra_size category bust  \\\n",
       "0   123373   29.0     7      5.0        d  38.0      34.0      new   36   \n",
       "1   123373   31.0    13      3.0        b  30.0      36.0      new  NaN   \n",
       "2   123373   30.0     7      2.0        b   NaN      32.0      new  NaN   \n",
       "3   123373    NaN    21      5.0     dd/e   NaN       NaN      new  NaN   \n",
       "4   123373    NaN    18      5.0        b   NaN      36.0      new  NaN   \n",
       "\n",
       "   height         user_name         length    fit  user_id  shoe_size  \\\n",
       "0     5.6             Emily     just right  small   991571        NaN   \n",
       "1     5.2  sydneybraden2001     just right  small   587883        NaN   \n",
       "2     5.7             Ugggh  slightly long  small   395665        9.0   \n",
       "3     NaN      alexmeyer626     just right    fit   875643        NaN   \n",
       "4     5.2        dberrones1  slightly long  small   944840        NaN   \n",
       "\n",
       "  shoe_width review_summary review_text  \n",
       "0        NaN            NaN         NaN  \n",
       "1        NaN            NaN         NaN  \n",
       "2        NaN            NaN         NaN  \n",
       "3        NaN            NaN         NaN  \n",
       "4        NaN            NaN         NaN  "
      ]
     },
     "execution_count": 101,
     "metadata": {},
     "output_type": "execute_result"
    }
   ],
   "source": [
    "js=js.rename(columns = {'cup size':'cup_size','bra size':'bra_size','shoe size':'shoe_size','shoe width':'shoe_width'})\n",
    "js.head()"
   ]
  },
  {
   "cell_type": "markdown",
   "id": "56f3c5ef",
   "metadata": {},
   "source": [
    "4. Check the missing values and Identify the distribution of the variables to impute the missing values. Explain based on your analysis decide the features which can be dropped and Which can be imputed. And also explain the reason to choose the metric that you have chosen to impute the null values.\n",
    "Note: Kindly copy the datasets and work on the new data frame.\n"
   ]
  },
  {
   "cell_type": "code",
   "execution_count": 102,
   "id": "173e15fe",
   "metadata": {},
   "outputs": [
    {
     "data": {
      "text/html": [
       "<div>\n",
       "<style scoped>\n",
       "    .dataframe tbody tr th:only-of-type {\n",
       "        vertical-align: middle;\n",
       "    }\n",
       "\n",
       "    .dataframe tbody tr th {\n",
       "        vertical-align: top;\n",
       "    }\n",
       "\n",
       "    .dataframe thead th {\n",
       "        text-align: right;\n",
       "    }\n",
       "</style>\n",
       "<table border=\"1\" class=\"dataframe\">\n",
       "  <thead>\n",
       "    <tr style=\"text-align: right;\">\n",
       "      <th></th>\n",
       "      <th>item_id</th>\n",
       "      <th>waist</th>\n",
       "      <th>size</th>\n",
       "      <th>quality</th>\n",
       "      <th>hips</th>\n",
       "      <th>bra_size</th>\n",
       "      <th>height</th>\n",
       "      <th>user_id</th>\n",
       "      <th>shoe_size</th>\n",
       "    </tr>\n",
       "  </thead>\n",
       "  <tbody>\n",
       "    <tr>\n",
       "      <th>count</th>\n",
       "      <td>82790.000000</td>\n",
       "      <td>2882.000000</td>\n",
       "      <td>82790.000000</td>\n",
       "      <td>82722.000000</td>\n",
       "      <td>56064.000000</td>\n",
       "      <td>76772.000000</td>\n",
       "      <td>81683.000000</td>\n",
       "      <td>82790.000000</td>\n",
       "      <td>27915.000000</td>\n",
       "    </tr>\n",
       "    <tr>\n",
       "      <th>mean</th>\n",
       "      <td>469325.229170</td>\n",
       "      <td>31.319223</td>\n",
       "      <td>12.661602</td>\n",
       "      <td>3.949058</td>\n",
       "      <td>40.358501</td>\n",
       "      <td>35.972125</td>\n",
       "      <td>5.456365</td>\n",
       "      <td>498849.564718</td>\n",
       "      <td>8.145818</td>\n",
       "    </tr>\n",
       "    <tr>\n",
       "      <th>std</th>\n",
       "      <td>213999.803314</td>\n",
       "      <td>5.302849</td>\n",
       "      <td>8.271952</td>\n",
       "      <td>0.992783</td>\n",
       "      <td>5.827166</td>\n",
       "      <td>3.224907</td>\n",
       "      <td>0.293081</td>\n",
       "      <td>286356.969459</td>\n",
       "      <td>1.336109</td>\n",
       "    </tr>\n",
       "    <tr>\n",
       "      <th>min</th>\n",
       "      <td>123373.000000</td>\n",
       "      <td>20.000000</td>\n",
       "      <td>0.000000</td>\n",
       "      <td>1.000000</td>\n",
       "      <td>30.000000</td>\n",
       "      <td>28.000000</td>\n",
       "      <td>3.000000</td>\n",
       "      <td>6.000000</td>\n",
       "      <td>5.000000</td>\n",
       "    </tr>\n",
       "    <tr>\n",
       "      <th>25%</th>\n",
       "      <td>314980.000000</td>\n",
       "      <td>28.000000</td>\n",
       "      <td>8.000000</td>\n",
       "      <td>3.000000</td>\n",
       "      <td>36.000000</td>\n",
       "      <td>34.000000</td>\n",
       "      <td>5.300000</td>\n",
       "      <td>252897.750000</td>\n",
       "      <td>7.000000</td>\n",
       "    </tr>\n",
       "    <tr>\n",
       "      <th>50%</th>\n",
       "      <td>454030.000000</td>\n",
       "      <td>30.000000</td>\n",
       "      <td>12.000000</td>\n",
       "      <td>4.000000</td>\n",
       "      <td>39.000000</td>\n",
       "      <td>36.000000</td>\n",
       "      <td>5.500000</td>\n",
       "      <td>497913.500000</td>\n",
       "      <td>8.000000</td>\n",
       "    </tr>\n",
       "    <tr>\n",
       "      <th>75%</th>\n",
       "      <td>658440.000000</td>\n",
       "      <td>34.000000</td>\n",
       "      <td>15.000000</td>\n",
       "      <td>5.000000</td>\n",
       "      <td>43.000000</td>\n",
       "      <td>38.000000</td>\n",
       "      <td>5.700000</td>\n",
       "      <td>744745.250000</td>\n",
       "      <td>9.000000</td>\n",
       "    </tr>\n",
       "    <tr>\n",
       "      <th>max</th>\n",
       "      <td>807722.000000</td>\n",
       "      <td>50.000000</td>\n",
       "      <td>38.000000</td>\n",
       "      <td>5.000000</td>\n",
       "      <td>60.000000</td>\n",
       "      <td>48.000000</td>\n",
       "      <td>7.700000</td>\n",
       "      <td>999972.000000</td>\n",
       "      <td>38.000000</td>\n",
       "    </tr>\n",
       "  </tbody>\n",
       "</table>\n",
       "</div>"
      ],
      "text/plain": [
       "             item_id        waist          size       quality          hips  \\\n",
       "count   82790.000000  2882.000000  82790.000000  82722.000000  56064.000000   \n",
       "mean   469325.229170    31.319223     12.661602      3.949058     40.358501   \n",
       "std    213999.803314     5.302849      8.271952      0.992783      5.827166   \n",
       "min    123373.000000    20.000000      0.000000      1.000000     30.000000   \n",
       "25%    314980.000000    28.000000      8.000000      3.000000     36.000000   \n",
       "50%    454030.000000    30.000000     12.000000      4.000000     39.000000   \n",
       "75%    658440.000000    34.000000     15.000000      5.000000     43.000000   \n",
       "max    807722.000000    50.000000     38.000000      5.000000     60.000000   \n",
       "\n",
       "           bra_size        height        user_id     shoe_size  \n",
       "count  76772.000000  81683.000000   82790.000000  27915.000000  \n",
       "mean      35.972125      5.456365  498849.564718      8.145818  \n",
       "std        3.224907      0.293081  286356.969459      1.336109  \n",
       "min       28.000000      3.000000       6.000000      5.000000  \n",
       "25%       34.000000      5.300000  252897.750000      7.000000  \n",
       "50%       36.000000      5.500000  497913.500000      8.000000  \n",
       "75%       38.000000      5.700000  744745.250000      9.000000  \n",
       "max       48.000000      7.700000  999972.000000     38.000000  "
      ]
     },
     "execution_count": 102,
     "metadata": {},
     "output_type": "execute_result"
    }
   ],
   "source": [
    "js.describe()"
   ]
  },
  {
   "cell_type": "code",
   "execution_count": 103,
   "id": "73bbd766",
   "metadata": {},
   "outputs": [
    {
     "data": {
      "text/plain": [
       "4.0"
      ]
     },
     "execution_count": 103,
     "metadata": {},
     "output_type": "execute_result"
    }
   ],
   "source": [
    "js['quality'].median()"
   ]
  },
  {
   "cell_type": "markdown",
   "id": "26787e16",
   "metadata": {},
   "source": [
    "4.1 Check the count and percentage of missing values.\n"
   ]
  },
  {
   "cell_type": "code",
   "execution_count": 104,
   "id": "6b1d8434",
   "metadata": {},
   "outputs": [
    {
     "data": {
      "text/plain": [
       "item_id               0\n",
       "waist             79908\n",
       "size                  0\n",
       "quality              68\n",
       "cup_size           6255\n",
       "hips              26726\n",
       "bra_size           6018\n",
       "category              0\n",
       "bust              70936\n",
       "height             1107\n",
       "user_name             0\n",
       "length               35\n",
       "fit                   0\n",
       "user_id               0\n",
       "shoe_size         54875\n",
       "shoe_width        64183\n",
       "review_summary     6725\n",
       "review_text        6725\n",
       "dtype: int64"
      ]
     },
     "execution_count": 104,
     "metadata": {},
     "output_type": "execute_result"
    }
   ],
   "source": [
    "missing_values=js.isnull().sum()#[js.isnull().sum()>0]\n",
    "missing_values"
   ]
  },
  {
   "cell_type": "code",
   "execution_count": 105,
   "id": "2791c7b6",
   "metadata": {},
   "outputs": [
    {
     "data": {
      "text/plain": [
       "0.02174175625075492"
      ]
     },
     "execution_count": 105,
     "metadata": {},
     "output_type": "execute_result"
    }
   ],
   "source": [
    "len(missing_values)/len(js)*100"
   ]
  },
  {
   "cell_type": "markdown",
   "id": "bdfe8b8d",
   "metadata": {},
   "source": [
    "4.2 check the Mean and Median.\n"
   ]
  },
  {
   "cell_type": "code",
   "execution_count": 106,
   "id": "e35378dd",
   "metadata": {},
   "outputs": [
    {
     "name": "stdout",
     "output_type": "stream",
     "text": [
      "MEAN: item_id      469325.229170\n",
      "waist            31.319223\n",
      "size             12.661602\n",
      "quality           3.949058\n",
      "hips             40.358501\n",
      "bra_size         35.972125\n",
      "height            5.456365\n",
      "user_id      498849.564718\n",
      "shoe_size         8.145818\n",
      "dtype: float64\n"
     ]
    }
   ],
   "source": [
    "print('MEAN:',js.mean())"
   ]
  },
  {
   "cell_type": "code",
   "execution_count": 107,
   "id": "0c00f847",
   "metadata": {},
   "outputs": [
    {
     "name": "stdout",
     "output_type": "stream",
     "text": [
      "MEDIAN: item_id      454030.0\n",
      "waist            30.0\n",
      "size             12.0\n",
      "quality           4.0\n",
      "hips             39.0\n",
      "bra_size         36.0\n",
      "height            5.5\n",
      "user_id      497913.5\n",
      "shoe_size         8.0\n",
      "dtype: float64\n"
     ]
    }
   ],
   "source": [
    "print('MEDIAN:',js.median())"
   ]
  },
  {
   "cell_type": "markdown",
   "id": "0b9cc263",
   "metadata": {},
   "source": [
    "\n",
    "4.3 Check the distribution of the variables using Histogram or Dist plot or KDE and boxplot etc.\n",
    "Kindly explore at least two.\n"
   ]
  },
  {
   "cell_type": "code",
   "execution_count": 108,
   "id": "ea62ce53",
   "metadata": {},
   "outputs": [
    {
     "data": {
      "text/plain": [
       "<Figure size 1500x700 with 0 Axes>"
      ]
     },
     "metadata": {},
     "output_type": "display_data"
    },
    {
     "data": {
      "image/png": "[encoded data removed]",
      "text/plain": [
       "<Figure size 640x480 with 9 Axes>"
      ]
     },
     "metadata": {},
     "output_type": "display_data"
    }
   ],
   "source": [
    "plt.figure(figsize=(15,7))\n",
    "js.hist()\n",
    "plt.xlabel(' ',fontsize=18)\n",
    "plt.ylabel(' ',fontsize=18)\n",
    "plt.show()"
   ]
  },
  {
   "cell_type": "code",
   "execution_count": 109,
   "id": "978655fb",
   "metadata": {},
   "outputs": [
    {
     "data": {
      "image/png": "[encoded data removed]",
      "text/plain": [
       "<Figure size 1000x700 with 1 Axes>"
      ]
     },
     "metadata": {},
     "output_type": "display_data"
    }
   ],
   "source": [
    "plt.figure(figsize=(10,7))\n",
    "sns.distplot(js['waist'])\n",
    "plt.xlabel('waist', fontsize=18)\n",
    "plt.ylabel('density', fontsize=18)\n",
    "plt.show()"
   ]
  },
  {
   "cell_type": "code",
   "execution_count": 110,
   "id": "1b5bcac2",
   "metadata": {},
   "outputs": [
    {
     "data": {
      "image/png": "[encoded data removed]",
      "text/plain": [
       "<Figure size 1000x700 with 1 Axes>"
      ]
     },
     "metadata": {},
     "output_type": "display_data"
    }
   ],
   "source": [
    "plt.figure(figsize=(10,7))\n",
    "sns.kdeplot(js['size'],color='b', shade=True)\n",
    "plt.xlabel('size', fontsize=18)\n",
    "plt.ylabel('density', fontsize=18)\n",
    "plt.show()"
   ]
  },
  {
   "cell_type": "code",
   "execution_count": 111,
   "id": "efb99875",
   "metadata": {},
   "outputs": [
    {
     "data": {
      "image/png": "[encoded data removed]",
      "text/plain": [
       "<Figure size 1000x700 with 1 Axes>"
      ]
     },
     "metadata": {},
     "output_type": "display_data"
    }
   ],
   "source": [
    "plt.figure(figsize=(10,7))\n",
    "sns.boxplot('height',data=js)\n",
    "\n",
    "plt.xlabel('height', fontsize=18)\n",
    "\n",
    "plt.show()"
   ]
  },
  {
   "cell_type": "code",
   "execution_count": null,
   "id": "02bbe64c",
   "metadata": {},
   "outputs": [],
   "source": []
  },
  {
   "cell_type": "code",
   "execution_count": 112,
   "id": "098879c8",
   "metadata": {},
   "outputs": [
    {
     "name": "stdout",
     "output_type": "stream",
     "text": [
      "<class 'pandas.core.frame.DataFrame'>\n",
      "RangeIndex: 82790 entries, 0 to 82789\n",
      "Data columns (total 18 columns):\n",
      " #   Column          Non-Null Count  Dtype  \n",
      "---  ------          --------------  -----  \n",
      " 0   item_id         82790 non-null  int64  \n",
      " 1   waist           2882 non-null   float64\n",
      " 2   size            82790 non-null  int64  \n",
      " 3   quality         82722 non-null  float64\n",
      " 4   cup_size        76535 non-null  object \n",
      " 5   hips            56064 non-null  float64\n",
      " 6   bra_size        76772 non-null  float64\n",
      " 7   category        82790 non-null  object \n",
      " 8   bust            11854 non-null  object \n",
      " 9   height          81683 non-null  float64\n",
      " 10  user_name       82790 non-null  object \n",
      " 11  length          82755 non-null  object \n",
      " 12  fit             82790 non-null  object \n",
      " 13  user_id         82790 non-null  int64  \n",
      " 14  shoe_size       27915 non-null  float64\n",
      " 15  shoe_width      18607 non-null  object \n",
      " 16  review_summary  76065 non-null  object \n",
      " 17  review_text     76065 non-null  object \n",
      "dtypes: float64(6), int64(3), object(9)\n",
      "memory usage: 11.4+ MB\n"
     ]
    }
   ],
   "source": [
    "js.info()"
   ]
  },
  {
   "cell_type": "markdown",
   "id": "36e4e47d",
   "metadata": {},
   "source": [
    "4.4 Check the Skewness and Kurtosis.\n",
    "Explain what the Skewness and Kurtosis describe.\n"
   ]
  },
  {
   "cell_type": "code",
   "execution_count": 113,
   "id": "6ed8e614",
   "metadata": {},
   "outputs": [
    {
     "data": {
      "text/plain": [
       "item_id     -0.120644\n",
       "waist        0.993061\n",
       "size         1.128301\n",
       "quality     -0.676777\n",
       "hips         0.969187\n",
       "bra_size     0.901004\n",
       "height      -1.095275\n",
       "user_id      0.008201\n",
       "shoe_size    0.436713\n",
       "dtype: float64"
      ]
     },
     "execution_count": 113,
     "metadata": {},
     "output_type": "execute_result"
    }
   ],
   "source": [
    "js.skew()"
   ]
  },
  {
   "cell_type": "code",
   "execution_count": 114,
   "id": "939ede19",
   "metadata": {},
   "outputs": [
    {
     "data": {
      "text/plain": [
       "item_id     -1.215909\n",
       "waist        0.836624\n",
       "size         0.760010\n",
       "quality     -0.167085\n",
       "hips         0.848464\n",
       "bra_size     1.039445\n",
       "height       5.311308\n",
       "user_id     -1.182436\n",
       "shoe_size    8.448820\n",
       "dtype: float64"
      ]
     },
     "execution_count": 114,
     "metadata": {},
     "output_type": "execute_result"
    }
   ],
   "source": [
    "js.kurt()"
   ]
  },
  {
   "cell_type": "markdown",
   "id": "ce07f290",
   "metadata": {},
   "source": [
    "4.5 Based on the above approach impute the missing values with the right metric. Or If you want to get some analysis before imputing missing values feel free to explore the analysis."
   ]
  },
  {
   "cell_type": "code",
   "execution_count": 115,
   "id": "d4471df7",
   "metadata": {},
   "outputs": [
    {
     "data": {
      "text/plain": [
       "c         18370\n",
       "d         16149\n",
       "b         14628\n",
       "dd/e      12557\n",
       "ddd/f      6117\n",
       "a          4791\n",
       "dddd/g     2008\n",
       "h          1042\n",
       "aa          296\n",
       "j           200\n",
       "i           189\n",
       "k           188\n",
       "Name: cup_size, dtype: int64"
      ]
     },
     "execution_count": 115,
     "metadata": {},
     "output_type": "execute_result"
    }
   ],
   "source": [
    "js['cup_size'].value_counts()"
   ]
  },
  {
   "cell_type": "code",
   "execution_count": 116,
   "id": "58481e65",
   "metadata": {},
   "outputs": [],
   "source": [
    "js['cup_size'].replace(np.nan,'c',inplace=True)"
   ]
  },
  {
   "cell_type": "markdown",
   "id": "eeebac69",
   "metadata": {},
   "source": [
    "As 'cup_size' is a categorical variable we replace the Nan_values by frequency"
   ]
  },
  {
   "cell_type": "code",
   "execution_count": 117,
   "id": "b753d611",
   "metadata": {},
   "outputs": [
    {
     "data": {
      "image/png": "[encoded data removed]",
      "text/plain": [
       "<Figure size 1000x700 with 1 Axes>"
      ]
     },
     "metadata": {},
     "output_type": "display_data"
    }
   ],
   "source": [
    "plt.figure(figsize=(10,7))\n",
    "plt.xlabel('hips', fontsize=18)\n",
    "sns.boxplot('hips',data=js)\n",
    "plt.show()"
   ]
  },
  {
   "cell_type": "code",
   "execution_count": 118,
   "id": "53bb3cb5",
   "metadata": {},
   "outputs": [],
   "source": [
    "med_hips=js['hips'].astype('float').median()\n",
    "js['hips'].replace(np.nan,med_hips,inplace=True)"
   ]
  },
  {
   "cell_type": "markdown",
   "id": "b257e23b",
   "metadata": {},
   "source": [
    "Replace the null values by median as outliers are present "
   ]
  },
  {
   "cell_type": "code",
   "execution_count": null,
   "id": "4b998eb2",
   "metadata": {},
   "outputs": [],
   "source": []
  },
  {
   "cell_type": "code",
   "execution_count": 119,
   "id": "c8100745",
   "metadata": {},
   "outputs": [
    {
     "data": {
      "image/png": "[encoded data removed]",
      "text/plain": [
       "<Figure size 1000x700 with 1 Axes>"
      ]
     },
     "metadata": {},
     "output_type": "display_data"
    }
   ],
   "source": [
    "plt.figure(figsize=(10,7))\n",
    "plt.xlabel('bra_size', fontsize=18)\n",
    "sns.boxplot('bra_size',data=js)\n",
    "plt.show()"
   ]
  },
  {
   "cell_type": "code",
   "execution_count": null,
   "id": "2f2105cc",
   "metadata": {},
   "outputs": [],
   "source": []
  },
  {
   "cell_type": "code",
   "execution_count": 120,
   "id": "606044df",
   "metadata": {},
   "outputs": [],
   "source": [
    "med_br=js['bra_size'].astype('float').median()\n",
    "js['bra_size'].replace(np.nan,med_br,inplace=True)"
   ]
  },
  {
   "cell_type": "markdown",
   "id": "f808772a",
   "metadata": {},
   "source": [
    "Replace the null values by median as outliers are present "
   ]
  },
  {
   "cell_type": "code",
   "execution_count": 121,
   "id": "87822f55",
   "metadata": {},
   "outputs": [
    {
     "data": {
      "text/plain": [
       "5.40    11928\n",
       "5.60    11891\n",
       "5.50     9418\n",
       "5.70     9161\n",
       "5.30     8680\n",
       "5.20     7684\n",
       "5.80     6420\n",
       "5.10     6286\n",
       "5.90     4574\n",
       "5.00     2252\n",
       "5.11     1395\n",
       "4.11      731\n",
       "6.00      630\n",
       "4.10      242\n",
       "6.10      144\n",
       "6.20       78\n",
       "4.90       48\n",
       "7.11       23\n",
       "3.00       16\n",
       "6.30       12\n",
       "4.80       11\n",
       "6.50       10\n",
       "6.60        8\n",
       "6.40        7\n",
       "4.50        5\n",
       "4.70        5\n",
       "4.20        3\n",
       "3.40        3\n",
       "4.40        2\n",
       "7.60        2\n",
       "3.60        2\n",
       "3.30        2\n",
       "6.80        2\n",
       "7.70        2\n",
       "3.11        1\n",
       "7.50        1\n",
       "7.30        1\n",
       "6.70        1\n",
       "3.20        1\n",
       "4.60        1\n",
       "Name: height, dtype: int64"
      ]
     },
     "execution_count": 121,
     "metadata": {},
     "output_type": "execute_result"
    }
   ],
   "source": [
    "js['height'].value_counts()"
   ]
  },
  {
   "cell_type": "code",
   "execution_count": 122,
   "id": "3736c01d",
   "metadata": {},
   "outputs": [],
   "source": [
    "js['height'].replace(np.nan,'5.40',inplace=True)"
   ]
  },
  {
   "cell_type": "code",
   "execution_count": 123,
   "id": "404f27f9",
   "metadata": {},
   "outputs": [
    {
     "data": {
      "text/plain": [
       "Love it!                     185\n",
       "I absolutely love this dr    124\n",
       "Love it                       92\n",
       "I really wanted to love t     92\n",
       "I love this dress so much     84\n",
       "                            ... \n",
       "Love it! Have it in two c      1\n",
       "I would size up. A little      1\n",
       "Wish it didn't pill under      1\n",
       "Love this!! Such a great       1\n",
       "I love this piece. I'm re      1\n",
       "Name: review_summary, Length: 61713, dtype: int64"
      ]
     },
     "execution_count": 123,
     "metadata": {},
     "output_type": "execute_result"
    }
   ],
   "source": [
    "js['review_summary'].value_counts()"
   ]
  },
  {
   "cell_type": "code",
   "execution_count": 124,
   "id": "a44ac393",
   "metadata": {},
   "outputs": [],
   "source": [
    "js['review_summary'].replace(np.nan,'Love it!',inplace=True)"
   ]
  },
  {
   "cell_type": "code",
   "execution_count": 125,
   "id": "4724a69a",
   "metadata": {},
   "outputs": [
    {
     "data": {
      "text/plain": [
       "Love it!                     6910\n",
       "I absolutely love this dr     124\n",
       "I really wanted to love t      92\n",
       "Love it                        92\n",
       "I love this dress so much      84\n",
       "                             ... \n",
       "Cute! Good material.            1\n",
       "Love it! Have it in two c       1\n",
       "I would size up. A little       1\n",
       "Wish it didn't pill under       1\n",
       "I love this piece. I'm re       1\n",
       "Name: review_summary, Length: 61713, dtype: int64"
      ]
     },
     "execution_count": 125,
     "metadata": {},
     "output_type": "execute_result"
    }
   ],
   "source": [
    "js['review_summary'].value_counts()"
   ]
  },
  {
   "cell_type": "code",
   "execution_count": 126,
   "id": "418bfd53",
   "metadata": {},
   "outputs": [
    {
     "data": {
      "text/plain": [
       "Love it!                                                                                                                                                                                                                                                   153\n",
       "Love it                                                                                                                                                                                                                                                     81\n",
       ".                                                                                                                                                                                                                                                           76\n",
       "Perfect!                                                                                                                                                                                                                                                    56\n",
       "Love!                                                                                                                                                                                                                                                       53\n",
       "                                                                                                                                                                                                                                                          ... \n",
       "I really wanted to love this, but it was surprisingly itchy. While it looked super cute, I had to send it back.                                                                                                                                              1\n",
       "Although the color and fabric were very nice, I was incredibly disappointed with how small this was! I could barely get my arms through the sleeves. Perhaps I just happened to receive a wonky one, but I wasn't inclined to try a new size. Returned!      1\n",
       "I have it in three colors I love it so much!                                                                                                                                                                                                                 1\n",
       "I love the look of this top, and I'm glad I went with the L instead of the M. It isn't really a very soft material, a little on the itchy side, but nothing terrible.                                                                                        1\n",
       "I love this piece. I'm really happy with it!                                                                                                                                                                                                                 1\n",
       "Name: review_text, Length: 73313, dtype: int64"
      ]
     },
     "execution_count": 126,
     "metadata": {},
     "output_type": "execute_result"
    }
   ],
   "source": [
    "js['review_text'].value_counts()"
   ]
  },
  {
   "cell_type": "code",
   "execution_count": 127,
   "id": "f502a4e3",
   "metadata": {},
   "outputs": [],
   "source": [
    "js['review_text'].replace(np.nan,'Love it!',inplace=True)"
   ]
  },
  {
   "cell_type": "markdown",
   "id": "8bcb39f1",
   "metadata": {},
   "source": [
    "Replacing by frequency as height,review_summary,review_text is categorical variable."
   ]
  },
  {
   "cell_type": "markdown",
   "id": "9aea66c7",
   "metadata": {},
   "source": [
    "js.drop(columns=['waist','bust','shoe_width','item_id','user_name','user_id'], axis=1,inplace=True)\n",
    "\n",
    "if necessary drop the columns"
   ]
  },
  {
   "cell_type": "code",
   "execution_count": 128,
   "id": "05732a4c",
   "metadata": {},
   "outputs": [
    {
     "data": {
      "image/png": "[encoded data removed]",
      "text/plain": [
       "<Figure size 800x500 with 1 Axes>"
      ]
     },
     "metadata": {},
     "output_type": "display_data"
    }
   ],
   "source": [
    "figure=plt.figure(figsize=(8,5))\n",
    "sns.heatmap(js.isnull(),cbar= False)\n",
    "plt.show()"
   ]
  },
  {
   "cell_type": "code",
   "execution_count": 129,
   "id": "916210b8",
   "metadata": {},
   "outputs": [
    {
     "data": {
      "text/plain": [
       "average    13097\n",
       "wide        3958\n",
       "narrow      1552\n",
       "Name: shoe_width, dtype: int64"
      ]
     },
     "execution_count": 129,
     "metadata": {},
     "output_type": "execute_result"
    }
   ],
   "source": [
    "js['shoe_width'].value_counts()"
   ]
  },
  {
   "cell_type": "code",
   "execution_count": 130,
   "id": "801419b6",
   "metadata": {},
   "outputs": [],
   "source": [
    "js['shoe_width'].replace(np.nan,'average',inplace=True)"
   ]
  },
  {
   "cell_type": "code",
   "execution_count": 131,
   "id": "6efcf777",
   "metadata": {},
   "outputs": [
    {
     "data": {
      "image/png": "[encoded data removed]",
      "text/plain": [
       "<Figure size 800x500 with 1 Axes>"
      ]
     },
     "metadata": {},
     "output_type": "display_data"
    }
   ],
   "source": [
    "figure=plt.figure(figsize=(8,5))\n",
    "sns.heatmap(js.isnull(),cbar= False)\n",
    "plt.show()"
   ]
  },
  {
   "cell_type": "markdown",
   "id": "0cce04b8",
   "metadata": {},
   "source": [
    "No missing values present as the columns that are not required for analysis are dropped or replaced"
   ]
  },
  {
   "cell_type": "markdown",
   "id": "d4808ba0",
   "metadata": {},
   "source": [
    "5.Find the outliers which are below and above 2.5 * IQR - Q1 and 2.5 * IQR + Q3."
   ]
  },
  {
   "cell_type": "code",
   "execution_count": 132,
   "id": "479e3bf9",
   "metadata": {},
   "outputs": [
    {
     "name": "stdout",
     "output_type": "stream",
     "text": [
      "Lower: item_id      543670.0\n",
      "waist           -13.0\n",
      "size              9.5\n",
      "quality           2.0\n",
      "hips            -30.5\n",
      "bra_size        -24.0\n",
      "user_id      976721.0\n",
      "shoe_size        -2.0\n",
      "dtype: float64\n",
      "High: item_id      1517090.0\n",
      "waist             49.0\n",
      "size              32.5\n",
      "quality           10.0\n",
      "hips              48.5\n",
      "bra_size          48.0\n",
      "user_id      1974364.0\n",
      "shoe_size         14.0\n",
      "dtype: float64\n"
     ]
    }
   ],
   "source": [
    "Q1=js.quantile(0.25)\n",
    "Q3=js.quantile(0.75)\n",
    "IQR =Q3-Q1\n",
    "print(\"Lower:\",2.5 * IQR - Q1)\n",
    "\n",
    "print(\"High:\",2.5 * IQR + Q3)"
   ]
  },
  {
   "cell_type": "markdown",
   "id": "5802a277",
   "metadata": {},
   "source": [
    "6.Check for the category dress review and visualize the top 10 reviews using any relevant plot. Identify the negative reviews if there are any."
   ]
  },
  {
   "cell_type": "code",
   "execution_count": 133,
   "id": "d84857ed",
   "metadata": {},
   "outputs": [
    {
     "data": {
      "text/html": [
       "<div>\n",
       "<style scoped>\n",
       "    .dataframe tbody tr th:only-of-type {\n",
       "        vertical-align: middle;\n",
       "    }\n",
       "\n",
       "    .dataframe tbody tr th {\n",
       "        vertical-align: top;\n",
       "    }\n",
       "\n",
       "    .dataframe thead th {\n",
       "        text-align: right;\n",
       "    }\n",
       "</style>\n",
       "<table border=\"1\" class=\"dataframe\">\n",
       "  <thead>\n",
       "    <tr style=\"text-align: right;\">\n",
       "      <th></th>\n",
       "      <th>item_id</th>\n",
       "      <th>waist</th>\n",
       "      <th>size</th>\n",
       "      <th>quality</th>\n",
       "      <th>cup_size</th>\n",
       "      <th>hips</th>\n",
       "      <th>bra_size</th>\n",
       "      <th>category</th>\n",
       "      <th>bust</th>\n",
       "      <th>height</th>\n",
       "      <th>user_name</th>\n",
       "      <th>length</th>\n",
       "      <th>fit</th>\n",
       "      <th>user_id</th>\n",
       "      <th>shoe_size</th>\n",
       "      <th>shoe_width</th>\n",
       "      <th>review_summary</th>\n",
       "      <th>review_text</th>\n",
       "    </tr>\n",
       "  </thead>\n",
       "  <tbody>\n",
       "    <tr>\n",
       "      <th>0</th>\n",
       "      <td>123373</td>\n",
       "      <td>29.0</td>\n",
       "      <td>7</td>\n",
       "      <td>5.0</td>\n",
       "      <td>d</td>\n",
       "      <td>38.0</td>\n",
       "      <td>34.0</td>\n",
       "      <td>new</td>\n",
       "      <td>36</td>\n",
       "      <td>5.6</td>\n",
       "      <td>Emily</td>\n",
       "      <td>just right</td>\n",
       "      <td>small</td>\n",
       "      <td>991571</td>\n",
       "      <td>NaN</td>\n",
       "      <td>average</td>\n",
       "      <td>Love it!</td>\n",
       "      <td>Love it!</td>\n",
       "    </tr>\n",
       "    <tr>\n",
       "      <th>1</th>\n",
       "      <td>123373</td>\n",
       "      <td>31.0</td>\n",
       "      <td>13</td>\n",
       "      <td>3.0</td>\n",
       "      <td>b</td>\n",
       "      <td>30.0</td>\n",
       "      <td>36.0</td>\n",
       "      <td>new</td>\n",
       "      <td>NaN</td>\n",
       "      <td>5.2</td>\n",
       "      <td>sydneybraden2001</td>\n",
       "      <td>just right</td>\n",
       "      <td>small</td>\n",
       "      <td>587883</td>\n",
       "      <td>NaN</td>\n",
       "      <td>average</td>\n",
       "      <td>Love it!</td>\n",
       "      <td>Love it!</td>\n",
       "    </tr>\n",
       "    <tr>\n",
       "      <th>2</th>\n",
       "      <td>123373</td>\n",
       "      <td>30.0</td>\n",
       "      <td>7</td>\n",
       "      <td>2.0</td>\n",
       "      <td>b</td>\n",
       "      <td>39.0</td>\n",
       "      <td>32.0</td>\n",
       "      <td>new</td>\n",
       "      <td>NaN</td>\n",
       "      <td>5.7</td>\n",
       "      <td>Ugggh</td>\n",
       "      <td>slightly long</td>\n",
       "      <td>small</td>\n",
       "      <td>395665</td>\n",
       "      <td>9.0</td>\n",
       "      <td>average</td>\n",
       "      <td>Love it!</td>\n",
       "      <td>Love it!</td>\n",
       "    </tr>\n",
       "    <tr>\n",
       "      <th>3</th>\n",
       "      <td>123373</td>\n",
       "      <td>NaN</td>\n",
       "      <td>21</td>\n",
       "      <td>5.0</td>\n",
       "      <td>dd/e</td>\n",
       "      <td>39.0</td>\n",
       "      <td>36.0</td>\n",
       "      <td>new</td>\n",
       "      <td>NaN</td>\n",
       "      <td>5.40</td>\n",
       "      <td>alexmeyer626</td>\n",
       "      <td>just right</td>\n",
       "      <td>fit</td>\n",
       "      <td>875643</td>\n",
       "      <td>NaN</td>\n",
       "      <td>average</td>\n",
       "      <td>Love it!</td>\n",
       "      <td>Love it!</td>\n",
       "    </tr>\n",
       "    <tr>\n",
       "      <th>4</th>\n",
       "      <td>123373</td>\n",
       "      <td>NaN</td>\n",
       "      <td>18</td>\n",
       "      <td>5.0</td>\n",
       "      <td>b</td>\n",
       "      <td>39.0</td>\n",
       "      <td>36.0</td>\n",
       "      <td>new</td>\n",
       "      <td>NaN</td>\n",
       "      <td>5.2</td>\n",
       "      <td>dberrones1</td>\n",
       "      <td>slightly long</td>\n",
       "      <td>small</td>\n",
       "      <td>944840</td>\n",
       "      <td>NaN</td>\n",
       "      <td>average</td>\n",
       "      <td>Love it!</td>\n",
       "      <td>Love it!</td>\n",
       "    </tr>\n",
       "  </tbody>\n",
       "</table>\n",
       "</div>"
      ],
      "text/plain": [
       "   item_id  waist  size  quality cup_size  hips  bra_size category bust  \\\n",
       "0   123373   29.0     7      5.0        d  38.0      34.0      new   36   \n",
       "1   123373   31.0    13      3.0        b  30.0      36.0      new  NaN   \n",
       "2   123373   30.0     7      2.0        b  39.0      32.0      new  NaN   \n",
       "3   123373    NaN    21      5.0     dd/e  39.0      36.0      new  NaN   \n",
       "4   123373    NaN    18      5.0        b  39.0      36.0      new  NaN   \n",
       "\n",
       "  height         user_name         length    fit  user_id  shoe_size  \\\n",
       "0    5.6             Emily     just right  small   991571        NaN   \n",
       "1    5.2  sydneybraden2001     just right  small   587883        NaN   \n",
       "2    5.7             Ugggh  slightly long  small   395665        9.0   \n",
       "3   5.40      alexmeyer626     just right    fit   875643        NaN   \n",
       "4    5.2        dberrones1  slightly long  small   944840        NaN   \n",
       "\n",
       "  shoe_width review_summary review_text  \n",
       "0    average       Love it!    Love it!  \n",
       "1    average       Love it!    Love it!  \n",
       "2    average       Love it!    Love it!  \n",
       "3    average       Love it!    Love it!  \n",
       "4    average       Love it!    Love it!  "
      ]
     },
     "execution_count": 133,
     "metadata": {},
     "output_type": "execute_result"
    }
   ],
   "source": [
    "js.head()"
   ]
  },
  {
   "cell_type": "code",
   "execution_count": 134,
   "id": "8f53e153",
   "metadata": {},
   "outputs": [],
   "source": [
    "#js['review_summary'] = js['review_summary'].replace(['Love it'], 'Love it!')"
   ]
  },
  {
   "cell_type": "code",
   "execution_count": 135,
   "id": "c43ca75a",
   "metadata": {
    "scrolled": true
   },
   "outputs": [
    {
     "data": {
      "text/plain": [
       "I absolutely love this dr    104\n",
       "I love this dress so much     70\n",
       "I wanted to love this dre     48\n",
       "I bought this dress for m     45\n",
       "This dress is absolutely      43\n",
       "Love it!                      41\n",
       "I love love love this dre     40\n",
       "Love this dress!              39\n",
       "Love love love this dress     36\n",
       "I really wanted to love t     32\n",
       "Name: review_summary, dtype: int64"
      ]
     },
     "execution_count": 135,
     "metadata": {},
     "output_type": "execute_result"
    }
   ],
   "source": [
    "df_dress=js[js['category']=='dresses']['review_summary']\n",
    "df_dress.value_counts().head(10)"
   ]
  },
  {
   "cell_type": "markdown",
   "id": "20122cbd",
   "metadata": {},
   "source": [
    "7. Find out the average shoe size for the different fits of the customer. Visualize using any relevant plot. Explain that, Is there any significant different shoe sizes for different fits?"
   ]
  },
  {
   "cell_type": "code",
   "execution_count": 136,
   "id": "e97be20e",
   "metadata": {},
   "outputs": [
    {
     "data": {
      "image/png": "[encoded data removed]",
      "text/plain": [
       "<Figure size 640x480 with 1 Axes>"
      ]
     },
     "metadata": {},
     "output_type": "display_data"
    }
   ],
   "source": [
    "sns.boxplot('shoe_size',data=js)\n",
    "plt.show()"
   ]
  },
  {
   "cell_type": "code",
   "execution_count": 137,
   "id": "ff575243",
   "metadata": {},
   "outputs": [
    {
     "data": {
      "text/plain": [
       "<Figure size 1000x700 with 0 Axes>"
      ]
     },
     "metadata": {},
     "output_type": "display_data"
    },
    {
     "data": {
      "image/png": "[encoded data removed]",
      "text/plain": [
       "<Figure size 640x480 with 1 Axes>"
      ]
     },
     "metadata": {},
     "output_type": "display_data"
    }
   ],
   "source": [
    "plt.figure(figsize=(10,7))\n",
    "pd.pivot_table(data=js,index=['fit'],values=['shoe_size'],aggfunc=np.mean).plot(kind='bar')\n",
    "plt.xlabel('shoe_size', fontsize=18)\n",
    "plt.show()\n"
   ]
  },
  {
   "cell_type": "markdown",
   "id": "f5984715",
   "metadata": {},
   "source": [
    "8. Identify the customer’s common shoe width and average size for those who purchased the maximum quality. Is the mode of shoe width affect the user review?\n",
    "Visualize using the appropriate plot."
   ]
  },
  {
   "cell_type": "code",
   "execution_count": 138,
   "id": "8cf33c66",
   "metadata": {},
   "outputs": [
    {
     "data": {
      "text/plain": [
       "average    77280\n",
       "wide        3958\n",
       "narrow      1552\n",
       "Name: shoe_width, dtype: int64"
      ]
     },
     "execution_count": 138,
     "metadata": {},
     "output_type": "execute_result"
    }
   ],
   "source": [
    "js['shoe_width'].value_counts()"
   ]
  },
  {
   "cell_type": "code",
   "execution_count": 139,
   "id": "877f37e6",
   "metadata": {},
   "outputs": [],
   "source": [
    "js['shoe_width'].replace(np.nan,'average',inplace=True)"
   ]
  },
  {
   "cell_type": "code",
   "execution_count": 140,
   "id": "4921009c",
   "metadata": {},
   "outputs": [
    {
     "name": "stdout",
     "output_type": "stream",
     "text": [
      "<class 'pandas.core.frame.DataFrame'>\n",
      "RangeIndex: 82790 entries, 0 to 82789\n",
      "Data columns (total 18 columns):\n",
      " #   Column          Non-Null Count  Dtype  \n",
      "---  ------          --------------  -----  \n",
      " 0   item_id         82790 non-null  int64  \n",
      " 1   waist           2882 non-null   float64\n",
      " 2   size            82790 non-null  int64  \n",
      " 3   quality         82722 non-null  float64\n",
      " 4   cup_size        82790 non-null  object \n",
      " 5   hips            82790 non-null  float64\n",
      " 6   bra_size        82790 non-null  float64\n",
      " 7   category        82790 non-null  object \n",
      " 8   bust            11854 non-null  object \n",
      " 9   height          82790 non-null  object \n",
      " 10  user_name       82790 non-null  object \n",
      " 11  length          82755 non-null  object \n",
      " 12  fit             82790 non-null  object \n",
      " 13  user_id         82790 non-null  int64  \n",
      " 14  shoe_size       27915 non-null  float64\n",
      " 15  shoe_width      82790 non-null  object \n",
      " 16  review_summary  82790 non-null  object \n",
      " 17  review_text     82790 non-null  object \n",
      "dtypes: float64(5), int64(3), object(10)\n",
      "memory usage: 11.4+ MB\n"
     ]
    }
   ],
   "source": [
    "js.info()"
   ]
  },
  {
   "cell_type": "code",
   "execution_count": 141,
   "id": "8ddc3dde",
   "metadata": {},
   "outputs": [],
   "source": [
    "js[['quality']] = js[['quality']].astype(float)"
   ]
  },
  {
   "cell_type": "code",
   "execution_count": 142,
   "id": "7aae36c3",
   "metadata": {},
   "outputs": [
    {
     "data": {
      "text/plain": [
       "5.0"
      ]
     },
     "execution_count": 142,
     "metadata": {},
     "output_type": "execute_result"
    }
   ],
   "source": [
    "js['quality'].max()"
   ]
  },
  {
   "cell_type": "code",
   "execution_count": 143,
   "id": "c6d5529f",
   "metadata": {},
   "outputs": [
    {
     "name": "stdout",
     "output_type": "stream",
     "text": [
      "<class 'pandas.core.frame.DataFrame'>\n",
      "RangeIndex: 82790 entries, 0 to 82789\n",
      "Data columns (total 18 columns):\n",
      " #   Column          Non-Null Count  Dtype  \n",
      "---  ------          --------------  -----  \n",
      " 0   item_id         82790 non-null  int64  \n",
      " 1   waist           2882 non-null   float64\n",
      " 2   size            82790 non-null  int64  \n",
      " 3   quality         82722 non-null  float64\n",
      " 4   cup_size        82790 non-null  object \n",
      " 5   hips            82790 non-null  float64\n",
      " 6   bra_size        82790 non-null  float64\n",
      " 7   category        82790 non-null  object \n",
      " 8   bust            11854 non-null  object \n",
      " 9   height          82790 non-null  object \n",
      " 10  user_name       82790 non-null  object \n",
      " 11  length          82755 non-null  object \n",
      " 12  fit             82790 non-null  object \n",
      " 13  user_id         82790 non-null  int64  \n",
      " 14  shoe_size       27915 non-null  float64\n",
      " 15  shoe_width      82790 non-null  object \n",
      " 16  review_summary  82790 non-null  object \n",
      " 17  review_text     82790 non-null  object \n",
      "dtypes: float64(5), int64(3), object(10)\n",
      "memory usage: 11.4+ MB\n"
     ]
    }
   ],
   "source": [
    "js.info()"
   ]
  },
  {
   "cell_type": "code",
   "execution_count": 144,
   "id": "0142f92e",
   "metadata": {},
   "outputs": [
    {
     "data": {
      "text/html": [
       "<div>\n",
       "<style scoped>\n",
       "    .dataframe tbody tr th:only-of-type {\n",
       "        vertical-align: middle;\n",
       "    }\n",
       "\n",
       "    .dataframe tbody tr th {\n",
       "        vertical-align: top;\n",
       "    }\n",
       "\n",
       "    .dataframe thead th {\n",
       "        text-align: right;\n",
       "    }\n",
       "</style>\n",
       "<table border=\"1\" class=\"dataframe\">\n",
       "  <thead>\n",
       "    <tr style=\"text-align: right;\">\n",
       "      <th></th>\n",
       "      <th>item_id</th>\n",
       "      <th>waist</th>\n",
       "      <th>size</th>\n",
       "      <th>quality</th>\n",
       "      <th>cup_size</th>\n",
       "      <th>hips</th>\n",
       "      <th>bra_size</th>\n",
       "      <th>category</th>\n",
       "      <th>bust</th>\n",
       "      <th>height</th>\n",
       "      <th>user_name</th>\n",
       "      <th>length</th>\n",
       "      <th>fit</th>\n",
       "      <th>user_id</th>\n",
       "      <th>shoe_size</th>\n",
       "      <th>shoe_width</th>\n",
       "      <th>review_summary</th>\n",
       "      <th>review_text</th>\n",
       "    </tr>\n",
       "  </thead>\n",
       "  <tbody>\n",
       "    <tr>\n",
       "      <th>0</th>\n",
       "      <td>123373</td>\n",
       "      <td>29.0</td>\n",
       "      <td>7</td>\n",
       "      <td>5.0</td>\n",
       "      <td>d</td>\n",
       "      <td>38.0</td>\n",
       "      <td>34.0</td>\n",
       "      <td>new</td>\n",
       "      <td>36</td>\n",
       "      <td>5.6</td>\n",
       "      <td>Emily</td>\n",
       "      <td>just right</td>\n",
       "      <td>small</td>\n",
       "      <td>991571</td>\n",
       "      <td>NaN</td>\n",
       "      <td>average</td>\n",
       "      <td>Love it!</td>\n",
       "      <td>Love it!</td>\n",
       "    </tr>\n",
       "    <tr>\n",
       "      <th>3</th>\n",
       "      <td>123373</td>\n",
       "      <td>NaN</td>\n",
       "      <td>21</td>\n",
       "      <td>5.0</td>\n",
       "      <td>dd/e</td>\n",
       "      <td>39.0</td>\n",
       "      <td>36.0</td>\n",
       "      <td>new</td>\n",
       "      <td>NaN</td>\n",
       "      <td>5.40</td>\n",
       "      <td>alexmeyer626</td>\n",
       "      <td>just right</td>\n",
       "      <td>fit</td>\n",
       "      <td>875643</td>\n",
       "      <td>NaN</td>\n",
       "      <td>average</td>\n",
       "      <td>Love it!</td>\n",
       "      <td>Love it!</td>\n",
       "    </tr>\n",
       "    <tr>\n",
       "      <th>4</th>\n",
       "      <td>123373</td>\n",
       "      <td>NaN</td>\n",
       "      <td>18</td>\n",
       "      <td>5.0</td>\n",
       "      <td>b</td>\n",
       "      <td>39.0</td>\n",
       "      <td>36.0</td>\n",
       "      <td>new</td>\n",
       "      <td>NaN</td>\n",
       "      <td>5.2</td>\n",
       "      <td>dberrones1</td>\n",
       "      <td>slightly long</td>\n",
       "      <td>small</td>\n",
       "      <td>944840</td>\n",
       "      <td>NaN</td>\n",
       "      <td>average</td>\n",
       "      <td>Love it!</td>\n",
       "      <td>Love it!</td>\n",
       "    </tr>\n",
       "    <tr>\n",
       "      <th>5</th>\n",
       "      <td>123373</td>\n",
       "      <td>27.0</td>\n",
       "      <td>11</td>\n",
       "      <td>5.0</td>\n",
       "      <td>c</td>\n",
       "      <td>41.0</td>\n",
       "      <td>36.0</td>\n",
       "      <td>new</td>\n",
       "      <td>NaN</td>\n",
       "      <td>5.4</td>\n",
       "      <td>Doreenajane</td>\n",
       "      <td>just right</td>\n",
       "      <td>small</td>\n",
       "      <td>162012</td>\n",
       "      <td>NaN</td>\n",
       "      <td>average</td>\n",
       "      <td>Love it!</td>\n",
       "      <td>Love it!</td>\n",
       "    </tr>\n",
       "    <tr>\n",
       "      <th>7</th>\n",
       "      <td>123373</td>\n",
       "      <td>NaN</td>\n",
       "      <td>11</td>\n",
       "      <td>5.0</td>\n",
       "      <td>d</td>\n",
       "      <td>42.0</td>\n",
       "      <td>38.0</td>\n",
       "      <td>new</td>\n",
       "      <td>NaN</td>\n",
       "      <td>5.5</td>\n",
       "      <td>brettloie</td>\n",
       "      <td>just right</td>\n",
       "      <td>small</td>\n",
       "      <td>58869</td>\n",
       "      <td>8.5</td>\n",
       "      <td>average</td>\n",
       "      <td>Love it!</td>\n",
       "      <td>Love it!</td>\n",
       "    </tr>\n",
       "  </tbody>\n",
       "</table>\n",
       "</div>"
      ],
      "text/plain": [
       "   item_id  waist  size  quality cup_size  hips  bra_size category bust  \\\n",
       "0   123373   29.0     7      5.0        d  38.0      34.0      new   36   \n",
       "3   123373    NaN    21      5.0     dd/e  39.0      36.0      new  NaN   \n",
       "4   123373    NaN    18      5.0        b  39.0      36.0      new  NaN   \n",
       "5   123373   27.0    11      5.0        c  41.0      36.0      new  NaN   \n",
       "7   123373    NaN    11      5.0        d  42.0      38.0      new  NaN   \n",
       "\n",
       "  height     user_name         length    fit  user_id  shoe_size shoe_width  \\\n",
       "0    5.6         Emily     just right  small   991571        NaN    average   \n",
       "3   5.40  alexmeyer626     just right    fit   875643        NaN    average   \n",
       "4    5.2    dberrones1  slightly long  small   944840        NaN    average   \n",
       "5    5.4   Doreenajane     just right  small   162012        NaN    average   \n",
       "7    5.5     brettloie     just right  small    58869        8.5    average   \n",
       "\n",
       "  review_summary review_text  \n",
       "0       Love it!    Love it!  \n",
       "3       Love it!    Love it!  \n",
       "4       Love it!    Love it!  \n",
       "5       Love it!    Love it!  \n",
       "7       Love it!    Love it!  "
      ]
     },
     "execution_count": 144,
     "metadata": {},
     "output_type": "execute_result"
    }
   ],
   "source": [
    "df=pd.DataFrame(js[(js['shoe_width']=='average')& (js['quality']==5.0)])\n",
    "df.head()"
   ]
  },
  {
   "cell_type": "code",
   "execution_count": 145,
   "id": "af7a8152",
   "metadata": {},
   "outputs": [
    {
     "data": {
      "text/plain": [
       "12.362646930779277"
      ]
     },
     "execution_count": 145,
     "metadata": {},
     "output_type": "execute_result"
    }
   ],
   "source": [
    "df['size'].mean()"
   ]
  },
  {
   "cell_type": "code",
   "execution_count": 146,
   "id": "e6781c5c",
   "metadata": {},
   "outputs": [
    {
     "data": {
      "text/plain": [
       "0    average\n",
       "Name: shoe_width, dtype: object"
      ]
     },
     "execution_count": 146,
     "metadata": {},
     "output_type": "execute_result"
    }
   ],
   "source": [
    "df['shoe_width'].mode()"
   ]
  },
  {
   "cell_type": "code",
   "execution_count": null,
   "id": "f3662bba",
   "metadata": {},
   "outputs": [],
   "source": []
  },
  {
   "cell_type": "code",
   "execution_count": 147,
   "id": "47cc0f19",
   "metadata": {},
   "outputs": [
    {
     "data": {
      "image/png": "[encoded data removed]",
      "text/plain": [
       "<Figure size 640x480 with 1 Axes>"
      ]
     },
     "metadata": {},
     "output_type": "display_data"
    }
   ],
   "source": [
    "pd.pivot_table(js, values='review_summary', index=['shoe_width'],aggfunc='count').plot(kind='bar')\n",
    "plt.show()"
   ]
  },
  {
   "cell_type": "markdown",
   "id": "90dfe742",
   "metadata": {},
   "source": [
    "9. Extract the records belonging to the top 10 reviews, and then find the review summary for the different cup sizes. The basic analysis explains what you would try to infer. \n",
    "Try to use visualization."
   ]
  },
  {
   "cell_type": "code",
   "execution_count": 150,
   "id": "5e20aa9f",
   "metadata": {},
   "outputs": [
    {
     "data": {
      "text/plain": [
       "82790"
      ]
     },
     "execution_count": 150,
     "metadata": {},
     "output_type": "execute_result"
    }
   ],
   "source": [
    "len(js)"
   ]
  },
  {
   "cell_type": "code",
   "execution_count": 151,
   "id": "3827a842",
   "metadata": {},
   "outputs": [],
   "source": [
    "a=js['review_summary'].value_counts().head(10).index"
   ]
  },
  {
   "cell_type": "code",
   "execution_count": 152,
   "id": "00b8a286",
   "metadata": {},
   "outputs": [],
   "source": [
    "l=[]\n",
    "for i in range(len(js)):\n",
    "    if js.loc[i,'review_summary'] in a:\n",
    "        l.append(i)"
   ]
  },
  {
   "cell_type": "code",
   "execution_count": 153,
   "id": "8c5cba3e",
   "metadata": {},
   "outputs": [
    {
     "data": {
      "image/png": "[encoded data removed]",
      "text/plain": [
       "<Figure size 640x480 with 1 Axes>"
      ]
     },
     "metadata": {},
     "output_type": "display_data"
    }
   ],
   "source": [
    "js.iloc[l].groupby(['cup_size'])['review_summary'].value_counts().plot(kind='bar')\n",
    "plt.show()"
   ]
  },
  {
   "cell_type": "code",
   "execution_count": 157,
   "id": "52577d4c",
   "metadata": {},
   "outputs": [
    {
     "data": {
      "text/html": [
       "<div>\n",
       "<style scoped>\n",
       "    .dataframe tbody tr th:only-of-type {\n",
       "        vertical-align: middle;\n",
       "    }\n",
       "\n",
       "    .dataframe tbody tr th {\n",
       "        vertical-align: top;\n",
       "    }\n",
       "\n",
       "    .dataframe thead th {\n",
       "        text-align: right;\n",
       "    }\n",
       "</style>\n",
       "<table border=\"1\" class=\"dataframe\">\n",
       "  <thead>\n",
       "    <tr style=\"text-align: right;\">\n",
       "      <th></th>\n",
       "      <th>review_summary</th>\n",
       "      <th>cup_size</th>\n",
       "      <th>count_n</th>\n",
       "    </tr>\n",
       "  </thead>\n",
       "  <tbody>\n",
       "    <tr>\n",
       "      <th>0</th>\n",
       "      <td>Love it!</td>\n",
       "      <td>c</td>\n",
       "      <td>1993</td>\n",
       "    </tr>\n",
       "    <tr>\n",
       "      <th>1</th>\n",
       "      <td>Love it!</td>\n",
       "      <td>d</td>\n",
       "      <td>1434</td>\n",
       "    </tr>\n",
       "    <tr>\n",
       "      <th>2</th>\n",
       "      <td>Love it!</td>\n",
       "      <td>b</td>\n",
       "      <td>1153</td>\n",
       "    </tr>\n",
       "    <tr>\n",
       "      <th>3</th>\n",
       "      <td>Love it!</td>\n",
       "      <td>dd/e</td>\n",
       "      <td>1080</td>\n",
       "    </tr>\n",
       "    <tr>\n",
       "      <th>4</th>\n",
       "      <td>Love it!</td>\n",
       "      <td>ddd/f</td>\n",
       "      <td>502</td>\n",
       "    </tr>\n",
       "    <tr>\n",
       "      <th>...</th>\n",
       "      <td>...</td>\n",
       "      <td>...</td>\n",
       "      <td>...</td>\n",
       "    </tr>\n",
       "    <tr>\n",
       "      <th>68573</th>\n",
       "      <td>I normally wear a 2x, but</td>\n",
       "      <td>dd/e</td>\n",
       "      <td>1</td>\n",
       "    </tr>\n",
       "    <tr>\n",
       "      <th>68574</th>\n",
       "      <td>I normally wear a 3x and</td>\n",
       "      <td>c</td>\n",
       "      <td>1</td>\n",
       "    </tr>\n",
       "    <tr>\n",
       "      <th>68575</th>\n",
       "      <td>I normally wear a 3x, but</td>\n",
       "      <td>dd/e</td>\n",
       "      <td>1</td>\n",
       "    </tr>\n",
       "    <tr>\n",
       "      <th>68576</th>\n",
       "      <td>I normally wear a 4P. Ord</td>\n",
       "      <td>a</td>\n",
       "      <td>1</td>\n",
       "    </tr>\n",
       "    <tr>\n",
       "      <th>68577</th>\n",
       "      <td>zipper very difficult to</td>\n",
       "      <td>c</td>\n",
       "      <td>1</td>\n",
       "    </tr>\n",
       "  </tbody>\n",
       "</table>\n",
       "<p>68578 rows × 3 columns</p>\n",
       "</div>"
      ],
      "text/plain": [
       "                  review_summary cup_size  count_n\n",
       "0                       Love it!        c     1993\n",
       "1                       Love it!        d     1434\n",
       "2                       Love it!        b     1153\n",
       "3                       Love it!     dd/e     1080\n",
       "4                       Love it!    ddd/f      502\n",
       "...                          ...      ...      ...\n",
       "68573  I normally wear a 2x, but     dd/e        1\n",
       "68574   I normally wear a 3x and        c        1\n",
       "68575  I normally wear a 3x, but     dd/e        1\n",
       "68576  I normally wear a 4P. Ord        a        1\n",
       "68577   zipper very difficult to        c        1\n",
       "\n",
       "[68578 rows x 3 columns]"
      ]
     },
     "execution_count": 157,
     "metadata": {},
     "output_type": "execute_result"
    }
   ],
   "source": [
    "js[['review_summary','cup_size']]\n",
    "df=pd.DataFrame(js[['review_summary','cup_size']]).value_counts().reset_index().rename(columns={0:'count_n'})\n",
    "df"
   ]
  },
  {
   "cell_type": "code",
   "execution_count": 156,
   "id": "7b5ce419",
   "metadata": {},
   "outputs": [
    {
     "data": {
      "image/png": "[encoded data removed]",
      "text/plain": [
       "<Figure size 640x480 with 1 Axes>"
      ]
     },
     "metadata": {},
     "output_type": "display_data"
    }
   ],
   "source": [
    "pd.pivot_table(df,index=['cup_size'],values=['count_n'],\n",
    "               aggfunc='count').sort_values(by='count_n',ascending=False).plot(kind='bar')\n",
    "plt.show()"
   ]
  },
  {
   "cell_type": "code",
   "execution_count": null,
   "id": "8fcb2be5",
   "metadata": {},
   "outputs": [],
   "source": []
  },
  {
   "cell_type": "code",
   "execution_count": null,
   "id": "3e02c914",
   "metadata": {},
   "outputs": [],
   "source": []
  },
  {
   "cell_type": "markdown",
   "id": "95581f4a",
   "metadata": {},
   "source": [
    "10. Identify the most common review that we got from the customer whose hips size is greater than 35. Find out what kind of inference you can make."
   ]
  },
  {
   "cell_type": "code",
   "execution_count": 158,
   "id": "a43bac48",
   "metadata": {},
   "outputs": [
    {
     "data": {
      "text/html": [
       "<div>\n",
       "<style scoped>\n",
       "    .dataframe tbody tr th:only-of-type {\n",
       "        vertical-align: middle;\n",
       "    }\n",
       "\n",
       "    .dataframe tbody tr th {\n",
       "        vertical-align: top;\n",
       "    }\n",
       "\n",
       "    .dataframe thead th {\n",
       "        text-align: right;\n",
       "    }\n",
       "</style>\n",
       "<table border=\"1\" class=\"dataframe\">\n",
       "  <thead>\n",
       "    <tr style=\"text-align: right;\">\n",
       "      <th></th>\n",
       "      <th>item_id</th>\n",
       "      <th>waist</th>\n",
       "      <th>size</th>\n",
       "      <th>quality</th>\n",
       "      <th>cup_size</th>\n",
       "      <th>hips</th>\n",
       "      <th>bra_size</th>\n",
       "      <th>category</th>\n",
       "      <th>bust</th>\n",
       "      <th>height</th>\n",
       "      <th>user_name</th>\n",
       "      <th>length</th>\n",
       "      <th>fit</th>\n",
       "      <th>user_id</th>\n",
       "      <th>shoe_size</th>\n",
       "      <th>shoe_width</th>\n",
       "      <th>review_summary</th>\n",
       "      <th>review_text</th>\n",
       "    </tr>\n",
       "  </thead>\n",
       "  <tbody>\n",
       "    <tr>\n",
       "      <th>0</th>\n",
       "      <td>123373</td>\n",
       "      <td>29.0</td>\n",
       "      <td>7</td>\n",
       "      <td>5.0</td>\n",
       "      <td>d</td>\n",
       "      <td>38.0</td>\n",
       "      <td>34.0</td>\n",
       "      <td>new</td>\n",
       "      <td>36</td>\n",
       "      <td>5.6</td>\n",
       "      <td>Emily</td>\n",
       "      <td>just right</td>\n",
       "      <td>small</td>\n",
       "      <td>991571</td>\n",
       "      <td>NaN</td>\n",
       "      <td>average</td>\n",
       "      <td>Love it!</td>\n",
       "      <td>Love it!</td>\n",
       "    </tr>\n",
       "    <tr>\n",
       "      <th>2</th>\n",
       "      <td>123373</td>\n",
       "      <td>30.0</td>\n",
       "      <td>7</td>\n",
       "      <td>2.0</td>\n",
       "      <td>b</td>\n",
       "      <td>39.0</td>\n",
       "      <td>32.0</td>\n",
       "      <td>new</td>\n",
       "      <td>NaN</td>\n",
       "      <td>5.7</td>\n",
       "      <td>Ugggh</td>\n",
       "      <td>slightly long</td>\n",
       "      <td>small</td>\n",
       "      <td>395665</td>\n",
       "      <td>9.0</td>\n",
       "      <td>average</td>\n",
       "      <td>Love it!</td>\n",
       "      <td>Love it!</td>\n",
       "    </tr>\n",
       "    <tr>\n",
       "      <th>3</th>\n",
       "      <td>123373</td>\n",
       "      <td>NaN</td>\n",
       "      <td>21</td>\n",
       "      <td>5.0</td>\n",
       "      <td>dd/e</td>\n",
       "      <td>39.0</td>\n",
       "      <td>36.0</td>\n",
       "      <td>new</td>\n",
       "      <td>NaN</td>\n",
       "      <td>5.40</td>\n",
       "      <td>alexmeyer626</td>\n",
       "      <td>just right</td>\n",
       "      <td>fit</td>\n",
       "      <td>875643</td>\n",
       "      <td>NaN</td>\n",
       "      <td>average</td>\n",
       "      <td>Love it!</td>\n",
       "      <td>Love it!</td>\n",
       "    </tr>\n",
       "    <tr>\n",
       "      <th>4</th>\n",
       "      <td>123373</td>\n",
       "      <td>NaN</td>\n",
       "      <td>18</td>\n",
       "      <td>5.0</td>\n",
       "      <td>b</td>\n",
       "      <td>39.0</td>\n",
       "      <td>36.0</td>\n",
       "      <td>new</td>\n",
       "      <td>NaN</td>\n",
       "      <td>5.2</td>\n",
       "      <td>dberrones1</td>\n",
       "      <td>slightly long</td>\n",
       "      <td>small</td>\n",
       "      <td>944840</td>\n",
       "      <td>NaN</td>\n",
       "      <td>average</td>\n",
       "      <td>Love it!</td>\n",
       "      <td>Love it!</td>\n",
       "    </tr>\n",
       "    <tr>\n",
       "      <th>5</th>\n",
       "      <td>123373</td>\n",
       "      <td>27.0</td>\n",
       "      <td>11</td>\n",
       "      <td>5.0</td>\n",
       "      <td>c</td>\n",
       "      <td>41.0</td>\n",
       "      <td>36.0</td>\n",
       "      <td>new</td>\n",
       "      <td>NaN</td>\n",
       "      <td>5.4</td>\n",
       "      <td>Doreenajane</td>\n",
       "      <td>just right</td>\n",
       "      <td>small</td>\n",
       "      <td>162012</td>\n",
       "      <td>NaN</td>\n",
       "      <td>average</td>\n",
       "      <td>Love it!</td>\n",
       "      <td>Love it!</td>\n",
       "    </tr>\n",
       "  </tbody>\n",
       "</table>\n",
       "</div>"
      ],
      "text/plain": [
       "   item_id  waist  size  quality cup_size  hips  bra_size category bust  \\\n",
       "0   123373   29.0     7      5.0        d  38.0      34.0      new   36   \n",
       "2   123373   30.0     7      2.0        b  39.0      32.0      new  NaN   \n",
       "3   123373    NaN    21      5.0     dd/e  39.0      36.0      new  NaN   \n",
       "4   123373    NaN    18      5.0        b  39.0      36.0      new  NaN   \n",
       "5   123373   27.0    11      5.0        c  41.0      36.0      new  NaN   \n",
       "\n",
       "  height     user_name         length    fit  user_id  shoe_size shoe_width  \\\n",
       "0    5.6         Emily     just right  small   991571        NaN    average   \n",
       "2    5.7         Ugggh  slightly long  small   395665        9.0    average   \n",
       "3   5.40  alexmeyer626     just right    fit   875643        NaN    average   \n",
       "4    5.2    dberrones1  slightly long  small   944840        NaN    average   \n",
       "5    5.4   Doreenajane     just right  small   162012        NaN    average   \n",
       "\n",
       "  review_summary review_text  \n",
       "0       Love it!    Love it!  \n",
       "2       Love it!    Love it!  \n",
       "3       Love it!    Love it!  \n",
       "4       Love it!    Love it!  \n",
       "5       Love it!    Love it!  "
      ]
     },
     "execution_count": 158,
     "metadata": {},
     "output_type": "execute_result"
    }
   ],
   "source": [
    "hp=pd.DataFrame(js[(js.hips> 35)])\n",
    "hp.head()"
   ]
  },
  {
   "cell_type": "code",
   "execution_count": 159,
   "id": "b3f5df39",
   "metadata": {},
   "outputs": [
    {
     "data": {
      "text/html": [
       "<div>\n",
       "<style scoped>\n",
       "    .dataframe tbody tr th:only-of-type {\n",
       "        vertical-align: middle;\n",
       "    }\n",
       "\n",
       "    .dataframe tbody tr th {\n",
       "        vertical-align: top;\n",
       "    }\n",
       "\n",
       "    .dataframe thead th {\n",
       "        text-align: right;\n",
       "    }\n",
       "</style>\n",
       "<table border=\"1\" class=\"dataframe\">\n",
       "  <thead>\n",
       "    <tr style=\"text-align: right;\">\n",
       "      <th></th>\n",
       "      <th>review_summary</th>\n",
       "      <th>common_review</th>\n",
       "    </tr>\n",
       "  </thead>\n",
       "  <tbody>\n",
       "    <tr>\n",
       "      <th>0</th>\n",
       "      <td>Love it!</td>\n",
       "      <td>5979</td>\n",
       "    </tr>\n",
       "    <tr>\n",
       "      <th>1</th>\n",
       "      <td>I absolutely love this dr</td>\n",
       "      <td>107</td>\n",
       "    </tr>\n",
       "    <tr>\n",
       "      <th>2</th>\n",
       "      <td>Love it</td>\n",
       "      <td>84</td>\n",
       "    </tr>\n",
       "    <tr>\n",
       "      <th>3</th>\n",
       "      <td>I really wanted to love t</td>\n",
       "      <td>81</td>\n",
       "    </tr>\n",
       "    <tr>\n",
       "      <th>4</th>\n",
       "      <td>I love this dress so much</td>\n",
       "      <td>76</td>\n",
       "    </tr>\n",
       "    <tr>\n",
       "      <th>5</th>\n",
       "      <td>.</td>\n",
       "      <td>70</td>\n",
       "    </tr>\n",
       "    <tr>\n",
       "      <th>6</th>\n",
       "      <td>This is one of my favorit</td>\n",
       "      <td>62</td>\n",
       "    </tr>\n",
       "    <tr>\n",
       "      <th>7</th>\n",
       "      <td>I get so many compliments</td>\n",
       "      <td>60</td>\n",
       "    </tr>\n",
       "    <tr>\n",
       "      <th>8</th>\n",
       "      <td>Perfect!</td>\n",
       "      <td>57</td>\n",
       "    </tr>\n",
       "    <tr>\n",
       "      <th>9</th>\n",
       "      <td>Love!</td>\n",
       "      <td>55</td>\n",
       "    </tr>\n",
       "  </tbody>\n",
       "</table>\n",
       "</div>"
      ],
      "text/plain": [
       "              review_summary  common_review\n",
       "0                   Love it!           5979\n",
       "1  I absolutely love this dr            107\n",
       "2                    Love it             84\n",
       "3  I really wanted to love t             81\n",
       "4  I love this dress so much             76\n",
       "5                          .             70\n",
       "6  This is one of my favorit             62\n",
       "7  I get so many compliments             60\n",
       "8                   Perfect!             57\n",
       "9                      Love!             55"
      ]
     },
     "execution_count": 159,
     "metadata": {},
     "output_type": "execute_result"
    }
   ],
   "source": [
    "hp[['review_summary']].value_counts().reset_index().head(10).rename(columns={0:'common_review'})"
   ]
  },
  {
   "cell_type": "markdown",
   "id": "dae6b7e6",
   "metadata": {},
   "source": [
    "11. What is the relationship between height and waist? Describe what kind of relationship it has."
   ]
  },
  {
   "cell_type": "code",
   "execution_count": 160,
   "id": "d8e3a107",
   "metadata": {},
   "outputs": [
    {
     "data": {
      "text/html": [
       "<div>\n",
       "<style scoped>\n",
       "    .dataframe tbody tr th:only-of-type {\n",
       "        vertical-align: middle;\n",
       "    }\n",
       "\n",
       "    .dataframe tbody tr th {\n",
       "        vertical-align: top;\n",
       "    }\n",
       "\n",
       "    .dataframe thead th {\n",
       "        text-align: right;\n",
       "    }\n",
       "</style>\n",
       "<table border=\"1\" class=\"dataframe\">\n",
       "  <thead>\n",
       "    <tr style=\"text-align: right;\">\n",
       "      <th></th>\n",
       "      <th>item_id</th>\n",
       "      <th>waist</th>\n",
       "      <th>size</th>\n",
       "      <th>quality</th>\n",
       "      <th>cup_size</th>\n",
       "      <th>hips</th>\n",
       "      <th>bra_size</th>\n",
       "      <th>category</th>\n",
       "      <th>bust</th>\n",
       "      <th>height</th>\n",
       "      <th>user_name</th>\n",
       "      <th>length</th>\n",
       "      <th>fit</th>\n",
       "      <th>user_id</th>\n",
       "      <th>shoe_size</th>\n",
       "      <th>shoe_width</th>\n",
       "      <th>review_summary</th>\n",
       "      <th>review_text</th>\n",
       "    </tr>\n",
       "  </thead>\n",
       "  <tbody>\n",
       "    <tr>\n",
       "      <th>0</th>\n",
       "      <td>123373</td>\n",
       "      <td>29.0</td>\n",
       "      <td>7</td>\n",
       "      <td>5.0</td>\n",
       "      <td>d</td>\n",
       "      <td>38.0</td>\n",
       "      <td>34.0</td>\n",
       "      <td>new</td>\n",
       "      <td>36</td>\n",
       "      <td>5.6</td>\n",
       "      <td>Emily</td>\n",
       "      <td>just right</td>\n",
       "      <td>small</td>\n",
       "      <td>991571</td>\n",
       "      <td>NaN</td>\n",
       "      <td>average</td>\n",
       "      <td>Love it!</td>\n",
       "      <td>Love it!</td>\n",
       "    </tr>\n",
       "    <tr>\n",
       "      <th>1</th>\n",
       "      <td>123373</td>\n",
       "      <td>31.0</td>\n",
       "      <td>13</td>\n",
       "      <td>3.0</td>\n",
       "      <td>b</td>\n",
       "      <td>30.0</td>\n",
       "      <td>36.0</td>\n",
       "      <td>new</td>\n",
       "      <td>NaN</td>\n",
       "      <td>5.2</td>\n",
       "      <td>sydneybraden2001</td>\n",
       "      <td>just right</td>\n",
       "      <td>small</td>\n",
       "      <td>587883</td>\n",
       "      <td>NaN</td>\n",
       "      <td>average</td>\n",
       "      <td>Love it!</td>\n",
       "      <td>Love it!</td>\n",
       "    </tr>\n",
       "    <tr>\n",
       "      <th>2</th>\n",
       "      <td>123373</td>\n",
       "      <td>30.0</td>\n",
       "      <td>7</td>\n",
       "      <td>2.0</td>\n",
       "      <td>b</td>\n",
       "      <td>39.0</td>\n",
       "      <td>32.0</td>\n",
       "      <td>new</td>\n",
       "      <td>NaN</td>\n",
       "      <td>5.7</td>\n",
       "      <td>Ugggh</td>\n",
       "      <td>slightly long</td>\n",
       "      <td>small</td>\n",
       "      <td>395665</td>\n",
       "      <td>9.0</td>\n",
       "      <td>average</td>\n",
       "      <td>Love it!</td>\n",
       "      <td>Love it!</td>\n",
       "    </tr>\n",
       "    <tr>\n",
       "      <th>3</th>\n",
       "      <td>123373</td>\n",
       "      <td>NaN</td>\n",
       "      <td>21</td>\n",
       "      <td>5.0</td>\n",
       "      <td>dd/e</td>\n",
       "      <td>39.0</td>\n",
       "      <td>36.0</td>\n",
       "      <td>new</td>\n",
       "      <td>NaN</td>\n",
       "      <td>5.40</td>\n",
       "      <td>alexmeyer626</td>\n",
       "      <td>just right</td>\n",
       "      <td>fit</td>\n",
       "      <td>875643</td>\n",
       "      <td>NaN</td>\n",
       "      <td>average</td>\n",
       "      <td>Love it!</td>\n",
       "      <td>Love it!</td>\n",
       "    </tr>\n",
       "    <tr>\n",
       "      <th>4</th>\n",
       "      <td>123373</td>\n",
       "      <td>NaN</td>\n",
       "      <td>18</td>\n",
       "      <td>5.0</td>\n",
       "      <td>b</td>\n",
       "      <td>39.0</td>\n",
       "      <td>36.0</td>\n",
       "      <td>new</td>\n",
       "      <td>NaN</td>\n",
       "      <td>5.2</td>\n",
       "      <td>dberrones1</td>\n",
       "      <td>slightly long</td>\n",
       "      <td>small</td>\n",
       "      <td>944840</td>\n",
       "      <td>NaN</td>\n",
       "      <td>average</td>\n",
       "      <td>Love it!</td>\n",
       "      <td>Love it!</td>\n",
       "    </tr>\n",
       "  </tbody>\n",
       "</table>\n",
       "</div>"
      ],
      "text/plain": [
       "   item_id  waist  size  quality cup_size  hips  bra_size category bust  \\\n",
       "0   123373   29.0     7      5.0        d  38.0      34.0      new   36   \n",
       "1   123373   31.0    13      3.0        b  30.0      36.0      new  NaN   \n",
       "2   123373   30.0     7      2.0        b  39.0      32.0      new  NaN   \n",
       "3   123373    NaN    21      5.0     dd/e  39.0      36.0      new  NaN   \n",
       "4   123373    NaN    18      5.0        b  39.0      36.0      new  NaN   \n",
       "\n",
       "  height         user_name         length    fit  user_id  shoe_size  \\\n",
       "0    5.6             Emily     just right  small   991571        NaN   \n",
       "1    5.2  sydneybraden2001     just right  small   587883        NaN   \n",
       "2    5.7             Ugggh  slightly long  small   395665        9.0   \n",
       "3   5.40      alexmeyer626     just right    fit   875643        NaN   \n",
       "4    5.2        dberrones1  slightly long  small   944840        NaN   \n",
       "\n",
       "  shoe_width review_summary review_text  \n",
       "0    average       Love it!    Love it!  \n",
       "1    average       Love it!    Love it!  \n",
       "2    average       Love it!    Love it!  \n",
       "3    average       Love it!    Love it!  \n",
       "4    average       Love it!    Love it!  "
      ]
     },
     "execution_count": 160,
     "metadata": {},
     "output_type": "execute_result"
    }
   ],
   "source": [
    "js.head()"
   ]
  },
  {
   "cell_type": "code",
   "execution_count": 161,
   "id": "92236f8d",
   "metadata": {},
   "outputs": [
    {
     "data": {
      "image/png": "[encoded data removed]",
      "text/plain": [
       "<Figure size 640x480 with 1 Axes>"
      ]
     },
     "metadata": {},
     "output_type": "display_data"
    },
    {
     "data": {
      "text/plain": [
       "<Figure size 1500x1000 with 0 Axes>"
      ]
     },
     "metadata": {},
     "output_type": "display_data"
    }
   ],
   "source": [
    "pd.pivot_table(js,index=['waist'],values=['height'],aggfunc=('count')).plot(kind='line')\n",
    "plt.figure(figsize=(15,10))\n",
    "plt.show()"
   ]
  },
  {
   "cell_type": "markdown",
   "id": "be2b1337",
   "metadata": {},
   "source": [
    "12. Plot the pair plot for the numerical plot. Explain according to your problem statement how the pair plot would help you."
   ]
  },
  {
   "cell_type": "code",
   "execution_count": null,
   "id": "d098213f",
   "metadata": {},
   "outputs": [],
   "source": [
    "df_2=js.select_dtypes(include=np.number)\n",
    "df_2.head()"
   ]
  },
  {
   "cell_type": "code",
   "execution_count": null,
   "id": "c7a23b9e",
   "metadata": {},
   "outputs": [],
   "source": [
    "df_2.info()"
   ]
  },
  {
   "cell_type": "code",
   "execution_count": null,
   "id": "06c0e650",
   "metadata": {},
   "outputs": [],
   "source": [
    "sns.pairplot(df_2,diag_kind='kde')"
   ]
  },
  {
   "cell_type": "code",
   "execution_count": null,
   "id": "ee861c17",
   "metadata": {},
   "outputs": [],
   "source": []
  },
  {
   "cell_type": "code",
   "execution_count": null,
   "id": "59f08f03",
   "metadata": {},
   "outputs": [],
   "source": []
  },
  {
   "cell_type": "code",
   "execution_count": null,
   "id": "d8720d93",
   "metadata": {},
   "outputs": [],
   "source": []
  },
  {
   "cell_type": "markdown",
   "id": "38aa167a",
   "metadata": {},
   "source": [
    "## Statistical Analysis:"
   ]
  },
  {
   "cell_type": "markdown",
   "id": "99441ff9",
   "metadata": {},
   "source": [
    "1. Test the claim that the category feature and review summary have any relationship among them. The level of significance is 5%."
   ]
  },
  {
   "cell_type": "code",
   "execution_count": null,
   "id": "7029cc4b",
   "metadata": {},
   "outputs": [],
   "source": [
    "table= pd.crosstab(js['review_summary'],js['category'])\n",
    "table"
   ]
  },
  {
   "cell_type": "code",
   "execution_count": null,
   "id": "bb00fc09",
   "metadata": {},
   "outputs": [],
   "source": [
    "chi2_val = round(stats.chi2.isf(q = 0.05, df = 5), 4)\n",
    "\n",
    "print('Critical value for chi-square test:', chi2_val)"
   ]
  },
  {
   "cell_type": "code",
   "execution_count": null,
   "id": "e10beab3",
   "metadata": {},
   "outputs": [],
   "source": [
    "test_stat, p, dof, expected_value =chi2_contingency(observed=table,correction=False)\n",
    "\n",
    "print(\"Test statistic:\", test_stat)\n",
    "print(\"p-value:\", p)\n",
    "print(\"Degrees of freedom:\", dof)\n",
    "print(\"Expected values:\", expected_value)"
   ]
  },
  {
   "cell_type": "markdown",
   "id": "dcccd1f7",
   "metadata": {},
   "source": [
    "2. Test statistically whether the size and hips have any relationship using 0.05 alpha. Before the above test, Test the normality test."
   ]
  },
  {
   "cell_type": "code",
   "execution_count": null,
   "id": "6264f9f3",
   "metadata": {},
   "outputs": [],
   "source": []
  },
  {
   "cell_type": "code",
   "execution_count": null,
   "id": "d1f940a9",
   "metadata": {},
   "outputs": [],
   "source": []
  },
  {
   "cell_type": "markdown",
   "id": "55fc908e",
   "metadata": {},
   "source": [
    "3. Does the quality significantly differ for any one shoe width? Test the test with 96%confidence intervals.\n",
    "\n",
    "Check the normality of the data before the above test. Alpha = .05"
   ]
  },
  {
   "cell_type": "markdown",
   "id": "937eee79",
   "metadata": {},
   "source": [
    "𝐻0\n",
    " : The quality differ of all shoe_width are the same.\n",
    "\n",
    "𝐻1\n",
    ": The quality differ of all shoe_width is not same"
   ]
  },
  {
   "cell_type": "code",
   "execution_count": null,
   "id": "7fa49442",
   "metadata": {},
   "outputs": [],
   "source": [
    "from scipy.stats import shapiro\n",
    "\n",
    "stat, p_value = stats.shapiro(js['quality'])\n",
    "print('p-value:', p_value)"
   ]
  },
  {
   "cell_type": "code",
   "execution_count": null,
   "id": "47a82df9",
   "metadata": {},
   "outputs": [],
   "source": [
    "js['shoe_width'].unique()"
   ]
  },
  {
   "cell_type": "code",
   "execution_count": null,
   "id": "03464d6f",
   "metadata": {},
   "outputs": [],
   "source": [
    "gr_A = js[js['shoe_width'] == 'average']['quality']\n",
    "gr_B = js[js['shoe_width'] == 'wide']['quality']\n",
    "gr_C = js[js['shoe_width'] == 'narrow']['quality']"
   ]
  },
  {
   "cell_type": "code",
   "execution_count": null,
   "id": "5f300090",
   "metadata": {},
   "outputs": [],
   "source": [
    "t = js['shoe_width'].nunique()\n",
    "print('t:', t)\n",
    "N = js['shoe_width'].value_counts().sum()\n",
    "print('N:', N)"
   ]
  },
  {
   "cell_type": "code",
   "execution_count": null,
   "id": "30fffeda",
   "metadata": {},
   "outputs": [],
   "source": [
    "f_test, p_val = stats.f_oneway(gr_A,gr_B,gr_C)\n",
    "\n",
    "print('Test statistic:', f_test)\n",
    "print('p-value:', p_val)"
   ]
  },
  {
   "cell_type": "code",
   "execution_count": null,
   "id": "f9ab25a3",
   "metadata": {},
   "outputs": [],
   "source": []
  },
  {
   "cell_type": "markdown",
   "id": "cd160049",
   "metadata": {},
   "source": [
    "As P_val < alpha so we reject null hypothesis hence quality differ for one  shoe_width significantly"
   ]
  },
  {
   "cell_type": "markdown",
   "id": "b9f53f3f",
   "metadata": {},
   "source": [
    "4. Check if the shoe width feature affects the review summary with a 99% confidence interval."
   ]
  },
  {
   "cell_type": "code",
   "execution_count": null,
   "id": "f782877b",
   "metadata": {},
   "outputs": [],
   "source": [
    "table1= pd.crosstab(js['review_summary'],js['shoe_width'])\n",
    "table1"
   ]
  },
  {
   "cell_type": "code",
   "execution_count": null,
   "id": "c7b6d721",
   "metadata": {},
   "outputs": [],
   "source": [
    "chi2_val = round(stats.chi2.isf(q = 0.05, df = 2), 4)\n",
    "print('Critical value for chi-square test:', chi2_val)"
   ]
  },
  {
   "cell_type": "code",
   "execution_count": null,
   "id": "ae306d7f",
   "metadata": {},
   "outputs": [],
   "source": [
    "test_stat, p, dof, expected_value =chi2_contingency(observed=table1,correction=False)\n",
    "\n",
    "print(\"Test statistic:\", test_stat)\n",
    "print(\"p-value:\", p)\n",
    "print(\"Degrees of freedom:\", dof)\n",
    "print(\"Expected values:\", expected_value)"
   ]
  },
  {
   "cell_type": "markdown",
   "id": "a37a4d86",
   "metadata": {},
   "source": [
    "As P-Val is < alpha so we reject null hypothesis and shoe_width and reviw_summary are dependent variable"
   ]
  },
  {
   "cell_type": "code",
   "execution_count": null,
   "id": "e7052d2b",
   "metadata": {},
   "outputs": [],
   "source": []
  },
  {
   "cell_type": "markdown",
   "id": "98b5692a",
   "metadata": {},
   "source": [
    "5. Check if the length feature affects the review summary with a 95% confidence interval."
   ]
  },
  {
   "cell_type": "code",
   "execution_count": null,
   "id": "21dea90b",
   "metadata": {},
   "outputs": [],
   "source": [
    "table2= pd.crosstab(js['review_summary'],js['length'])\n",
    "table2"
   ]
  },
  {
   "cell_type": "code",
   "execution_count": null,
   "id": "3a418a04",
   "metadata": {},
   "outputs": [],
   "source": [
    "test_stat, p, dof, expected_value =chi2_contingency(observed=table2,correction=False)\n",
    "\n",
    "print(\"Test statistic:\", test_stat)\n",
    "print(\"p-value:\", p)\n",
    "print(\"Degrees of freedom:\", dof)\n",
    "print(\"Expected values:\", expected_value)"
   ]
  },
  {
   "cell_type": "markdown",
   "id": "2880cbbd",
   "metadata": {},
   "source": [
    " P_val < alpha so we reject null hypothesis hence length and review summary are dependent variables."
   ]
  },
  {
   "cell_type": "markdown",
   "id": "98ab87ab",
   "metadata": {},
   "source": [
    "6. Does the average quality significantly differ for the different fits? Kindly test the relevant hypothesis test by having 0.05 alpha.\n",
    "Check the normality of the data before the above test. Alpha = .05"
   ]
  },
  {
   "cell_type": "code",
   "execution_count": null,
   "id": "c1ef8118",
   "metadata": {},
   "outputs": [],
   "source": [
    "js['fit'].unique()"
   ]
  },
  {
   "cell_type": "code",
   "execution_count": null,
   "id": "409e94c0",
   "metadata": {},
   "outputs": [],
   "source": [
    "gr_a = js[js['fit'] == 'small']['quality']\n",
    "gr_b = js[js['fit'] == 'fit']['quality']\n",
    "gr_c = js[js['fit'] == 'large']['quality']"
   ]
  },
  {
   "cell_type": "code",
   "execution_count": null,
   "id": "e43a45af",
   "metadata": {},
   "outputs": [],
   "source": [
    "t = js['fit'].nunique()\n",
    "print('t:', t)\n",
    "N = js['fit'].value_counts().sum()\n",
    "print('N:', N)"
   ]
  },
  {
   "cell_type": "code",
   "execution_count": null,
   "id": "9a15968b",
   "metadata": {},
   "outputs": [],
   "source": [
    "f = round(stats.f.isf(q = 0.05, dfn = 2, dfd =82787 ), 4)\n",
    "print('Critical value for F-test:', f)"
   ]
  },
  {
   "cell_type": "code",
   "execution_count": null,
   "id": "6108b7e0",
   "metadata": {},
   "outputs": [],
   "source": [
    "f_test, p_val = stats.f_oneway(gr_a,gr_b,gr_c)\n",
    "\n",
    "print('Test statistic:', f_test)\n"
   ]
  },
  {
   "cell_type": "markdown",
   "id": "1584d07b",
   "metadata": {},
   "source": [
    "As t_stat > critical value so we fail to reject null hypothesis hence average quality for different is same."
   ]
  },
  {
   "cell_type": "code",
   "execution_count": null,
   "id": "e0895f55",
   "metadata": {},
   "outputs": [],
   "source": []
  }
 ],
 "metadata": {
  "kernelspec": {
   "display_name": "Python 3 (ipykernel)",
   "language": "python",
   "name": "python3"
  },
  "language_info": {
   "codemirror_mode": {
    "name": "ipython",
    "version": 3
   },
   "file_extension": ".py",
   "mimetype": "text/x-python",
   "name": "python",
   "nbconvert_exporter": "python",
   "pygments_lexer": "ipython3",
   "version": "3.9.13"
  }
 },
 "nbformat": 4,
 "nbformat_minor": 5
}
